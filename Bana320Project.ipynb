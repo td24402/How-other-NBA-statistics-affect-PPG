{
  "nbformat": 4,
  "nbformat_minor": 0,
  "metadata": {
    "colab": {
      "provenance": []
    },
    "kernelspec": {
      "name": "python3",
      "display_name": "Python 3"
    },
    "language_info": {
      "name": "python"
    }
  },
  "cells": [
    {
      "cell_type": "code",
      "source": [
        "#Problem Statement: In the analysis of NBA player statistics, there exists a need to comprehensively understand the multifaceted factors influencing a player's Points Per Game (PPG).\n",
        "#While PPG serves as a fundamental metric of a player's scoring ability, the specific contributions of various performance indicators remain unclear.\n",
        "#This research aims to investigate the relationships between PPG and a set of relevant variables, including playing time, shooting efficiency, rebounding, and defensive statistics.\n",
        "#By exploring the nuanced interactions between these variables, the study seeks to provide insights into the key determinants of a player's scoring performance in the NBA.\n",
        "#The findings are anticipated to contribute to a deeper understanding of player dynamics and inform strategic decision-making in team management and player development."
      ],
      "metadata": {
        "id": "ssLnOiuQ4OAt"
      },
      "execution_count": null,
      "outputs": []
    },
    {
      "cell_type": "code",
      "source": [
        "#My dependent variable is continuous so it will be a regression problem\n",
        "#I got my source of the code from (https://www.kaggle.com/datasets/vivovinco/20222023-nba-player-stats-regular)"
      ],
      "metadata": {
        "id": "HqyOPuMZqqcc"
      },
      "execution_count": null,
      "outputs": []
    },
    {
      "cell_type": "code",
      "execution_count": null,
      "metadata": {
        "id": "X9MpyIAF9hF7"
      },
      "outputs": [],
      "source": [
        "#importing necessary libraries\n",
        "import pandas as pd\n",
        "import matplotlib.pyplot as plt\n",
        "import seaborn as sns\n",
        "import numpy as np\n",
        "from sklearn.model_selection import train_test_split\n",
        "from sklearn.preprocessing import StandardScaler\n",
        "from sklearn.linear_model import LinearRegression\n",
        "from sklearn.metrics import mean_squared_error, r2_score"
      ]
    },
    {
      "cell_type": "code",
      "source": [
        "#assign my data to df and read the first 5 lines of the data\n",
        "df = pd.read_csv('NBAStats2.csv')\n",
        "df.head()"
      ],
      "metadata": {
        "colab": {
          "base_uri": "https://localhost:8080/",
          "height": 235
        },
        "id": "5enPNDlD_LSQ",
        "outputId": "0d8b319f-c620-4c29-c231-15cc20815a57"
      },
      "execution_count": null,
      "outputs": [
        {
          "output_type": "execute_result",
          "data": {
            "text/plain": [
              "   Rk                    Player Pos  Age   Tm   G  GS    MP   FG   FGA  ...  \\\n",
              "0   1          Precious Achiuwa   C   24  TOR   3   0  21.7  3.0   8.0  ...   \n",
              "1   2               Bam Adebayo   C   26  MIA   7   7  34.0  8.1  16.0  ...   \n",
              "2   3              Ochai Agbaji  SG   23  UTA  10   2  16.3  1.7   4.1  ...   \n",
              "3   4              Santi Aldama  PF   23  MEM   3   0  19.7  3.3   8.3  ...   \n",
              "4   5  Nickeil Alexander-Walker  SG   25  MIN   8   2  19.3  1.5   4.5  ...   \n",
              "\n",
              "     FT%  ORB  DRB  TRB  AST  STL  BLK  TOV   PF   PTS  \n",
              "0  1.000  2.7  5.3  8.0  1.3  0.0  0.3  2.0  2.7   7.3  \n",
              "1  0.772  2.1  7.3  9.4  3.4  0.9  1.6  3.6  2.6  22.7  \n",
              "2  0.000  0.5  1.7  2.2  1.0  0.2  0.6  0.7  1.3   4.4  \n",
              "3  0.250  1.0  4.0  5.0  1.0  0.7  0.3  1.0  1.7   8.3  \n",
              "4  0.333  0.1  2.1  2.3  3.0  0.8  0.9  1.0  1.5   4.0  \n",
              "\n",
              "[5 rows x 30 columns]"
            ],
            "text/html": [
              "\n",
              "  <div id=\"df-9d48630a-6773-42f8-a3bb-5d97ba523da9\" class=\"colab-df-container\">\n",
              "    <div>\n",
              "<style scoped>\n",
              "    .dataframe tbody tr th:only-of-type {\n",
              "        vertical-align: middle;\n",
              "    }\n",
              "\n",
              "    .dataframe tbody tr th {\n",
              "        vertical-align: top;\n",
              "    }\n",
              "\n",
              "    .dataframe thead th {\n",
              "        text-align: right;\n",
              "    }\n",
              "</style>\n",
              "<table border=\"1\" class=\"dataframe\">\n",
              "  <thead>\n",
              "    <tr style=\"text-align: right;\">\n",
              "      <th></th>\n",
              "      <th>Rk</th>\n",
              "      <th>Player</th>\n",
              "      <th>Pos</th>\n",
              "      <th>Age</th>\n",
              "      <th>Tm</th>\n",
              "      <th>G</th>\n",
              "      <th>GS</th>\n",
              "      <th>MP</th>\n",
              "      <th>FG</th>\n",
              "      <th>FGA</th>\n",
              "      <th>...</th>\n",
              "      <th>FT%</th>\n",
              "      <th>ORB</th>\n",
              "      <th>DRB</th>\n",
              "      <th>TRB</th>\n",
              "      <th>AST</th>\n",
              "      <th>STL</th>\n",
              "      <th>BLK</th>\n",
              "      <th>TOV</th>\n",
              "      <th>PF</th>\n",
              "      <th>PTS</th>\n",
              "    </tr>\n",
              "  </thead>\n",
              "  <tbody>\n",
              "    <tr>\n",
              "      <th>0</th>\n",
              "      <td>1</td>\n",
              "      <td>Precious Achiuwa</td>\n",
              "      <td>C</td>\n",
              "      <td>24</td>\n",
              "      <td>TOR</td>\n",
              "      <td>3</td>\n",
              "      <td>0</td>\n",
              "      <td>21.7</td>\n",
              "      <td>3.0</td>\n",
              "      <td>8.0</td>\n",
              "      <td>...</td>\n",
              "      <td>1.000</td>\n",
              "      <td>2.7</td>\n",
              "      <td>5.3</td>\n",
              "      <td>8.0</td>\n",
              "      <td>1.3</td>\n",
              "      <td>0.0</td>\n",
              "      <td>0.3</td>\n",
              "      <td>2.0</td>\n",
              "      <td>2.7</td>\n",
              "      <td>7.3</td>\n",
              "    </tr>\n",
              "    <tr>\n",
              "      <th>1</th>\n",
              "      <td>2</td>\n",
              "      <td>Bam Adebayo</td>\n",
              "      <td>C</td>\n",
              "      <td>26</td>\n",
              "      <td>MIA</td>\n",
              "      <td>7</td>\n",
              "      <td>7</td>\n",
              "      <td>34.0</td>\n",
              "      <td>8.1</td>\n",
              "      <td>16.0</td>\n",
              "      <td>...</td>\n",
              "      <td>0.772</td>\n",
              "      <td>2.1</td>\n",
              "      <td>7.3</td>\n",
              "      <td>9.4</td>\n",
              "      <td>3.4</td>\n",
              "      <td>0.9</td>\n",
              "      <td>1.6</td>\n",
              "      <td>3.6</td>\n",
              "      <td>2.6</td>\n",
              "      <td>22.7</td>\n",
              "    </tr>\n",
              "    <tr>\n",
              "      <th>2</th>\n",
              "      <td>3</td>\n",
              "      <td>Ochai Agbaji</td>\n",
              "      <td>SG</td>\n",
              "      <td>23</td>\n",
              "      <td>UTA</td>\n",
              "      <td>10</td>\n",
              "      <td>2</td>\n",
              "      <td>16.3</td>\n",
              "      <td>1.7</td>\n",
              "      <td>4.1</td>\n",
              "      <td>...</td>\n",
              "      <td>0.000</td>\n",
              "      <td>0.5</td>\n",
              "      <td>1.7</td>\n",
              "      <td>2.2</td>\n",
              "      <td>1.0</td>\n",
              "      <td>0.2</td>\n",
              "      <td>0.6</td>\n",
              "      <td>0.7</td>\n",
              "      <td>1.3</td>\n",
              "      <td>4.4</td>\n",
              "    </tr>\n",
              "    <tr>\n",
              "      <th>3</th>\n",
              "      <td>4</td>\n",
              "      <td>Santi Aldama</td>\n",
              "      <td>PF</td>\n",
              "      <td>23</td>\n",
              "      <td>MEM</td>\n",
              "      <td>3</td>\n",
              "      <td>0</td>\n",
              "      <td>19.7</td>\n",
              "      <td>3.3</td>\n",
              "      <td>8.3</td>\n",
              "      <td>...</td>\n",
              "      <td>0.250</td>\n",
              "      <td>1.0</td>\n",
              "      <td>4.0</td>\n",
              "      <td>5.0</td>\n",
              "      <td>1.0</td>\n",
              "      <td>0.7</td>\n",
              "      <td>0.3</td>\n",
              "      <td>1.0</td>\n",
              "      <td>1.7</td>\n",
              "      <td>8.3</td>\n",
              "    </tr>\n",
              "    <tr>\n",
              "      <th>4</th>\n",
              "      <td>5</td>\n",
              "      <td>Nickeil Alexander-Walker</td>\n",
              "      <td>SG</td>\n",
              "      <td>25</td>\n",
              "      <td>MIN</td>\n",
              "      <td>8</td>\n",
              "      <td>2</td>\n",
              "      <td>19.3</td>\n",
              "      <td>1.5</td>\n",
              "      <td>4.5</td>\n",
              "      <td>...</td>\n",
              "      <td>0.333</td>\n",
              "      <td>0.1</td>\n",
              "      <td>2.1</td>\n",
              "      <td>2.3</td>\n",
              "      <td>3.0</td>\n",
              "      <td>0.8</td>\n",
              "      <td>0.9</td>\n",
              "      <td>1.0</td>\n",
              "      <td>1.5</td>\n",
              "      <td>4.0</td>\n",
              "    </tr>\n",
              "  </tbody>\n",
              "</table>\n",
              "<p>5 rows × 30 columns</p>\n",
              "</div>\n",
              "    <div class=\"colab-df-buttons\">\n",
              "\n",
              "  <div class=\"colab-df-container\">\n",
              "    <button class=\"colab-df-convert\" onclick=\"convertToInteractive('df-9d48630a-6773-42f8-a3bb-5d97ba523da9')\"\n",
              "            title=\"Convert this dataframe to an interactive table.\"\n",
              "            style=\"display:none;\">\n",
              "\n",
              "  <svg xmlns=\"http://www.w3.org/2000/svg\" height=\"24px\" viewBox=\"0 -960 960 960\">\n",
              "    <path d=\"M120-120v-720h720v720H120Zm60-500h600v-160H180v160Zm220 220h160v-160H400v160Zm0 220h160v-160H400v160ZM180-400h160v-160H180v160Zm440 0h160v-160H620v160ZM180-180h160v-160H180v160Zm440 0h160v-160H620v160Z\"/>\n",
              "  </svg>\n",
              "    </button>\n",
              "\n",
              "  <style>\n",
              "    .colab-df-container {\n",
              "      display:flex;\n",
              "      gap: 12px;\n",
              "    }\n",
              "\n",
              "    .colab-df-convert {\n",
              "      background-color: #E8F0FE;\n",
              "      border: none;\n",
              "      border-radius: 50%;\n",
              "      cursor: pointer;\n",
              "      display: none;\n",
              "      fill: #1967D2;\n",
              "      height: 32px;\n",
              "      padding: 0 0 0 0;\n",
              "      width: 32px;\n",
              "    }\n",
              "\n",
              "    .colab-df-convert:hover {\n",
              "      background-color: #E2EBFA;\n",
              "      box-shadow: 0px 1px 2px rgba(60, 64, 67, 0.3), 0px 1px 3px 1px rgba(60, 64, 67, 0.15);\n",
              "      fill: #174EA6;\n",
              "    }\n",
              "\n",
              "    .colab-df-buttons div {\n",
              "      margin-bottom: 4px;\n",
              "    }\n",
              "\n",
              "    [theme=dark] .colab-df-convert {\n",
              "      background-color: #3B4455;\n",
              "      fill: #D2E3FC;\n",
              "    }\n",
              "\n",
              "    [theme=dark] .colab-df-convert:hover {\n",
              "      background-color: #434B5C;\n",
              "      box-shadow: 0px 1px 3px 1px rgba(0, 0, 0, 0.15);\n",
              "      filter: drop-shadow(0px 1px 2px rgba(0, 0, 0, 0.3));\n",
              "      fill: #FFFFFF;\n",
              "    }\n",
              "  </style>\n",
              "\n",
              "    <script>\n",
              "      const buttonEl =\n",
              "        document.querySelector('#df-9d48630a-6773-42f8-a3bb-5d97ba523da9 button.colab-df-convert');\n",
              "      buttonEl.style.display =\n",
              "        google.colab.kernel.accessAllowed ? 'block' : 'none';\n",
              "\n",
              "      async function convertToInteractive(key) {\n",
              "        const element = document.querySelector('#df-9d48630a-6773-42f8-a3bb-5d97ba523da9');\n",
              "        const dataTable =\n",
              "          await google.colab.kernel.invokeFunction('convertToInteractive',\n",
              "                                                    [key], {});\n",
              "        if (!dataTable) return;\n",
              "\n",
              "        const docLinkHtml = 'Like what you see? Visit the ' +\n",
              "          '<a target=\"_blank\" href=https://colab.research.google.com/notebooks/data_table.ipynb>data table notebook</a>'\n",
              "          + ' to learn more about interactive tables.';\n",
              "        element.innerHTML = '';\n",
              "        dataTable['output_type'] = 'display_data';\n",
              "        await google.colab.output.renderOutput(dataTable, element);\n",
              "        const docLink = document.createElement('div');\n",
              "        docLink.innerHTML = docLinkHtml;\n",
              "        element.appendChild(docLink);\n",
              "      }\n",
              "    </script>\n",
              "  </div>\n",
              "\n",
              "\n",
              "<div id=\"df-a1cad1cd-1327-4d8a-bc16-82b854a80dfe\">\n",
              "  <button class=\"colab-df-quickchart\" onclick=\"quickchart('df-a1cad1cd-1327-4d8a-bc16-82b854a80dfe')\"\n",
              "            title=\"Suggest charts\"\n",
              "            style=\"display:none;\">\n",
              "\n",
              "<svg xmlns=\"http://www.w3.org/2000/svg\" height=\"24px\"viewBox=\"0 0 24 24\"\n",
              "     width=\"24px\">\n",
              "    <g>\n",
              "        <path d=\"M19 3H5c-1.1 0-2 .9-2 2v14c0 1.1.9 2 2 2h14c1.1 0 2-.9 2-2V5c0-1.1-.9-2-2-2zM9 17H7v-7h2v7zm4 0h-2V7h2v10zm4 0h-2v-4h2v4z\"/>\n",
              "    </g>\n",
              "</svg>\n",
              "  </button>\n",
              "\n",
              "<style>\n",
              "  .colab-df-quickchart {\n",
              "      --bg-color: #E8F0FE;\n",
              "      --fill-color: #1967D2;\n",
              "      --hover-bg-color: #E2EBFA;\n",
              "      --hover-fill-color: #174EA6;\n",
              "      --disabled-fill-color: #AAA;\n",
              "      --disabled-bg-color: #DDD;\n",
              "  }\n",
              "\n",
              "  [theme=dark] .colab-df-quickchart {\n",
              "      --bg-color: #3B4455;\n",
              "      --fill-color: #D2E3FC;\n",
              "      --hover-bg-color: #434B5C;\n",
              "      --hover-fill-color: #FFFFFF;\n",
              "      --disabled-bg-color: #3B4455;\n",
              "      --disabled-fill-color: #666;\n",
              "  }\n",
              "\n",
              "  .colab-df-quickchart {\n",
              "    background-color: var(--bg-color);\n",
              "    border: none;\n",
              "    border-radius: 50%;\n",
              "    cursor: pointer;\n",
              "    display: none;\n",
              "    fill: var(--fill-color);\n",
              "    height: 32px;\n",
              "    padding: 0;\n",
              "    width: 32px;\n",
              "  }\n",
              "\n",
              "  .colab-df-quickchart:hover {\n",
              "    background-color: var(--hover-bg-color);\n",
              "    box-shadow: 0 1px 2px rgba(60, 64, 67, 0.3), 0 1px 3px 1px rgba(60, 64, 67, 0.15);\n",
              "    fill: var(--button-hover-fill-color);\n",
              "  }\n",
              "\n",
              "  .colab-df-quickchart-complete:disabled,\n",
              "  .colab-df-quickchart-complete:disabled:hover {\n",
              "    background-color: var(--disabled-bg-color);\n",
              "    fill: var(--disabled-fill-color);\n",
              "    box-shadow: none;\n",
              "  }\n",
              "\n",
              "  .colab-df-spinner {\n",
              "    border: 2px solid var(--fill-color);\n",
              "    border-color: transparent;\n",
              "    border-bottom-color: var(--fill-color);\n",
              "    animation:\n",
              "      spin 1s steps(1) infinite;\n",
              "  }\n",
              "\n",
              "  @keyframes spin {\n",
              "    0% {\n",
              "      border-color: transparent;\n",
              "      border-bottom-color: var(--fill-color);\n",
              "      border-left-color: var(--fill-color);\n",
              "    }\n",
              "    20% {\n",
              "      border-color: transparent;\n",
              "      border-left-color: var(--fill-color);\n",
              "      border-top-color: var(--fill-color);\n",
              "    }\n",
              "    30% {\n",
              "      border-color: transparent;\n",
              "      border-left-color: var(--fill-color);\n",
              "      border-top-color: var(--fill-color);\n",
              "      border-right-color: var(--fill-color);\n",
              "    }\n",
              "    40% {\n",
              "      border-color: transparent;\n",
              "      border-right-color: var(--fill-color);\n",
              "      border-top-color: var(--fill-color);\n",
              "    }\n",
              "    60% {\n",
              "      border-color: transparent;\n",
              "      border-right-color: var(--fill-color);\n",
              "    }\n",
              "    80% {\n",
              "      border-color: transparent;\n",
              "      border-right-color: var(--fill-color);\n",
              "      border-bottom-color: var(--fill-color);\n",
              "    }\n",
              "    90% {\n",
              "      border-color: transparent;\n",
              "      border-bottom-color: var(--fill-color);\n",
              "    }\n",
              "  }\n",
              "</style>\n",
              "\n",
              "  <script>\n",
              "    async function quickchart(key) {\n",
              "      const quickchartButtonEl =\n",
              "        document.querySelector('#' + key + ' button');\n",
              "      quickchartButtonEl.disabled = true;  // To prevent multiple clicks.\n",
              "      quickchartButtonEl.classList.add('colab-df-spinner');\n",
              "      try {\n",
              "        const charts = await google.colab.kernel.invokeFunction(\n",
              "            'suggestCharts', [key], {});\n",
              "      } catch (error) {\n",
              "        console.error('Error during call to suggestCharts:', error);\n",
              "      }\n",
              "      quickchartButtonEl.classList.remove('colab-df-spinner');\n",
              "      quickchartButtonEl.classList.add('colab-df-quickchart-complete');\n",
              "    }\n",
              "    (() => {\n",
              "      let quickchartButtonEl =\n",
              "        document.querySelector('#df-a1cad1cd-1327-4d8a-bc16-82b854a80dfe button');\n",
              "      quickchartButtonEl.style.display =\n",
              "        google.colab.kernel.accessAllowed ? 'block' : 'none';\n",
              "    })();\n",
              "  </script>\n",
              "</div>\n",
              "    </div>\n",
              "  </div>\n"
            ]
          },
          "metadata": {},
          "execution_count": 348
        }
      ]
    },
    {
      "cell_type": "code",
      "source": [
        "#Data Preperation\n",
        "#Here is how I will find outliers for player points per game stat using interquartile range\n",
        "#as we can see Devin Booker, Luka Doncic, and Joel Embid are my 3 outliers\n",
        "Q1 = df['PTS'].quantile(0.25)\n",
        "Q3 = df['PTS'].quantile(0.75)\n",
        "IQR = Q3 - Q1\n",
        "\n",
        "# Define lower and upper bounds\n",
        "lower_bound = Q1 - 2 * IQR\n",
        "upper_bound = Q3 + 2 * IQR\n",
        "\n",
        "outliers = df[(df['PTS'] < lower_bound) | (df['PTS'] > upper_bound)]\n",
        "print(outliers)"
      ],
      "metadata": {
        "colab": {
          "base_uri": "https://localhost:8080/"
        },
        "id": "iwqNBG4akHc1",
        "outputId": "6d475313-4c44-48cc-a3a8-26d5404a911b"
      },
      "execution_count": null,
      "outputs": [
        {
          "output_type": "stream",
          "name": "stdout",
          "text": [
            "      Rk        Player Pos  Age   Tm  G  GS    MP    FG   FGA  ...    FT%  \\\n",
            "46    45  Devin Booker  SG   27  PHO  2   2  36.0  11.5  20.0  ...  1.000   \n",
            "103  100   Luka Don?i?  PG   24  DAL  9   9  36.7  11.2  21.7  ...  0.786   \n",
            "115  112   Joel Embiid   C   29  PHI  8   8  33.9  10.9  21.3  ...  0.843   \n",
            "\n",
            "     ORB  DRB   TRB   AST  STL  BLK  TOV   PF   PTS  \n",
            "46   1.0  6.5   7.5  10.5  0.5  0.0  5.5  4.0  31.5  \n",
            "103  0.7  8.2   8.9   8.4  1.3  0.6  4.4  2.1  32.9  \n",
            "115  2.9  8.6  11.5   5.5  0.6  2.3  3.9  2.5  31.9  \n",
            "\n",
            "[3 rows x 30 columns]\n"
          ]
        }
      ]
    },
    {
      "cell_type": "code",
      "source": [
        "#for comparison this is the league average Points Per Game\n",
        "df['PTS'].mean()"
      ],
      "metadata": {
        "colab": {
          "base_uri": "https://localhost:8080/"
        },
        "id": "kAuYdc18lK2x",
        "outputId": "d769e919-8db2-4ccb-8e0b-b86df4ee4544"
      },
      "execution_count": null,
      "outputs": [
        {
          "output_type": "execute_result",
          "data": {
            "text/plain": [
              "8.631533477321813"
            ]
          },
          "metadata": {},
          "execution_count": 350
        }
      ]
    },
    {
      "cell_type": "code",
      "source": [
        "#In order for me to be sure about if my 3 outliers are real players, or was there some type of input error for PPG, I have created a player efficiency rating.\n",
        "#If the outliers of PER matched outliers of PPG we can safely say that there was no input error for PPG\n",
        "df['PER'] = (df['PTS'] + df['AST'] + df['TRB']+ df['BLK']+ df['STL']- df['TOV']- df['PF'])"
      ],
      "metadata": {
        "id": "T1YjHovzsr9D"
      },
      "execution_count": null,
      "outputs": []
    },
    {
      "cell_type": "code",
      "source": [
        "#Data visualization, we can see from the boxplot that there are total of 4 outliers in my dataset according to my new variable 'PER'\n",
        "sns.boxplot(x='Pos', y = 'PER', data=df)\n",
        "plt.title(\"Player Efficiency Ratings in relation to their Position\")\n",
        "plt.show()"
      ],
      "metadata": {
        "colab": {
          "base_uri": "https://localhost:8080/",
          "height": 472
        },
        "id": "OjKcjn134mdM",
        "outputId": "888f323e-a5e8-4e18-b558-d7555a3b048c"
      },
      "execution_count": null,
      "outputs": [
        {
          "output_type": "display_data",
          "data": {
            "text/plain": [
              "<Figure size 640x480 with 1 Axes>"
            ],
            "image/png": "[encoded data removed]"
          },
          "metadata": {}
        }
      ]
    },
    {
      "cell_type": "code",
      "source": [
        "#I will test to see the 2 outliers from the point guard position\n",
        "#If the outliers are not the some of the best PGs in the league then that means there is something wrong with my variable 'PER'\n",
        "point_guards = df[df['Pos'] == 'PG']"
      ],
      "metadata": {
        "id": "CPD9qr3N_vZY"
      },
      "execution_count": null,
      "outputs": []
    },
    {
      "cell_type": "code",
      "source": [
        "#Here we are seeing the top 5 players by PER, and we have a match, Luka Doncic who was my outlier for PPG, is infact best PG by PER\n",
        "sorted_PGs = point_guards.sort_values(by='PER', ascending=False)\n",
        "sorted_PGs.head()"
      ],
      "metadata": {
        "id": "WMPWO3X3ASWm",
        "colab": {
          "base_uri": "https://localhost:8080/",
          "height": 235
        },
        "outputId": "3a5d175c-ce79-48dc-c5a2-55d98cdd7064"
      },
      "execution_count": null,
      "outputs": [
        {
          "output_type": "execute_result",
          "data": {
            "text/plain": [
              "      Rk                   Player Pos  Age   Tm  G  GS    MP    FG   FGA  ...  \\\n",
              "103  100              Luka Don?i?  PG   24  DAL  9   9  36.7  11.2  21.7  ...   \n",
              "136  133  Shai Gilgeous-Alexander  PG   25  OKC  8   8  35.5  11.0  21.3  ...   \n",
              "263  258             Tyrese Maxey  PG   23  PHI  8   8  37.8   9.1  19.0  ...   \n",
              "156  153        Tyrese Haliburton  PG   23  IND  8   8  32.8   8.3  16.4  ...   \n",
              "124  121             De'Aaron Fox  PG   26  SAC  3   3  35.3  11.3  23.3  ...   \n",
              "\n",
              "     ORB  DRB  TRB   AST  STL  BLK  TOV   PF   PTS   PER  \n",
              "103  0.7  8.2  8.9   8.4  1.3  0.6  4.4  2.1  32.9  45.6  \n",
              "136  0.8  6.3  7.0   6.4  2.3  0.8  2.5  2.1  28.8  40.7  \n",
              "263  0.6  4.6  5.3   7.5  1.1  0.8  1.0  1.9  25.9  37.7  \n",
              "156  0.5  3.8  4.3  11.6  0.9  0.6  2.6  1.3  23.6  37.1  \n",
              "124  1.0  3.3  4.3   6.0  1.3  0.7  2.7  4.0  31.3  36.9  \n",
              "\n",
              "[5 rows x 31 columns]"
            ],
            "text/html": [
              "\n",
              "  <div id=\"df-f8089494-bba1-460a-b5bb-d72d909b258c\" class=\"colab-df-container\">\n",
              "    <div>\n",
              "<style scoped>\n",
              "    .dataframe tbody tr th:only-of-type {\n",
              "        vertical-align: middle;\n",
              "    }\n",
              "\n",
              "    .dataframe tbody tr th {\n",
              "        vertical-align: top;\n",
              "    }\n",
              "\n",
              "    .dataframe thead th {\n",
              "        text-align: right;\n",
              "    }\n",
              "</style>\n",
              "<table border=\"1\" class=\"dataframe\">\n",
              "  <thead>\n",
              "    <tr style=\"text-align: right;\">\n",
              "      <th></th>\n",
              "      <th>Rk</th>\n",
              "      <th>Player</th>\n",
              "      <th>Pos</th>\n",
              "      <th>Age</th>\n",
              "      <th>Tm</th>\n",
              "      <th>G</th>\n",
              "      <th>GS</th>\n",
              "      <th>MP</th>\n",
              "      <th>FG</th>\n",
              "      <th>FGA</th>\n",
              "      <th>...</th>\n",
              "      <th>ORB</th>\n",
              "      <th>DRB</th>\n",
              "      <th>TRB</th>\n",
              "      <th>AST</th>\n",
              "      <th>STL</th>\n",
              "      <th>BLK</th>\n",
              "      <th>TOV</th>\n",
              "      <th>PF</th>\n",
              "      <th>PTS</th>\n",
              "      <th>PER</th>\n",
              "    </tr>\n",
              "  </thead>\n",
              "  <tbody>\n",
              "    <tr>\n",
              "      <th>103</th>\n",
              "      <td>100</td>\n",
              "      <td>Luka Don?i?</td>\n",
              "      <td>PG</td>\n",
              "      <td>24</td>\n",
              "      <td>DAL</td>\n",
              "      <td>9</td>\n",
              "      <td>9</td>\n",
              "      <td>36.7</td>\n",
              "      <td>11.2</td>\n",
              "      <td>21.7</td>\n",
              "      <td>...</td>\n",
              "      <td>0.7</td>\n",
              "      <td>8.2</td>\n",
              "      <td>8.9</td>\n",
              "      <td>8.4</td>\n",
              "      <td>1.3</td>\n",
              "      <td>0.6</td>\n",
              "      <td>4.4</td>\n",
              "      <td>2.1</td>\n",
              "      <td>32.9</td>\n",
              "      <td>45.6</td>\n",
              "    </tr>\n",
              "    <tr>\n",
              "      <th>136</th>\n",
              "      <td>133</td>\n",
              "      <td>Shai Gilgeous-Alexander</td>\n",
              "      <td>PG</td>\n",
              "      <td>25</td>\n",
              "      <td>OKC</td>\n",
              "      <td>8</td>\n",
              "      <td>8</td>\n",
              "      <td>35.5</td>\n",
              "      <td>11.0</td>\n",
              "      <td>21.3</td>\n",
              "      <td>...</td>\n",
              "      <td>0.8</td>\n",
              "      <td>6.3</td>\n",
              "      <td>7.0</td>\n",
              "      <td>6.4</td>\n",
              "      <td>2.3</td>\n",
              "      <td>0.8</td>\n",
              "      <td>2.5</td>\n",
              "      <td>2.1</td>\n",
              "      <td>28.8</td>\n",
              "      <td>40.7</td>\n",
              "    </tr>\n",
              "    <tr>\n",
              "      <th>263</th>\n",
              "      <td>258</td>\n",
              "      <td>Tyrese Maxey</td>\n",
              "      <td>PG</td>\n",
              "      <td>23</td>\n",
              "      <td>PHI</td>\n",
              "      <td>8</td>\n",
              "      <td>8</td>\n",
              "      <td>37.8</td>\n",
              "      <td>9.1</td>\n",
              "      <td>19.0</td>\n",
              "      <td>...</td>\n",
              "      <td>0.6</td>\n",
              "      <td>4.6</td>\n",
              "      <td>5.3</td>\n",
              "      <td>7.5</td>\n",
              "      <td>1.1</td>\n",
              "      <td>0.8</td>\n",
              "      <td>1.0</td>\n",
              "      <td>1.9</td>\n",
              "      <td>25.9</td>\n",
              "      <td>37.7</td>\n",
              "    </tr>\n",
              "    <tr>\n",
              "      <th>156</th>\n",
              "      <td>153</td>\n",
              "      <td>Tyrese Haliburton</td>\n",
              "      <td>PG</td>\n",
              "      <td>23</td>\n",
              "      <td>IND</td>\n",
              "      <td>8</td>\n",
              "      <td>8</td>\n",
              "      <td>32.8</td>\n",
              "      <td>8.3</td>\n",
              "      <td>16.4</td>\n",
              "      <td>...</td>\n",
              "      <td>0.5</td>\n",
              "      <td>3.8</td>\n",
              "      <td>4.3</td>\n",
              "      <td>11.6</td>\n",
              "      <td>0.9</td>\n",
              "      <td>0.6</td>\n",
              "      <td>2.6</td>\n",
              "      <td>1.3</td>\n",
              "      <td>23.6</td>\n",
              "      <td>37.1</td>\n",
              "    </tr>\n",
              "    <tr>\n",
              "      <th>124</th>\n",
              "      <td>121</td>\n",
              "      <td>De'Aaron Fox</td>\n",
              "      <td>PG</td>\n",
              "      <td>26</td>\n",
              "      <td>SAC</td>\n",
              "      <td>3</td>\n",
              "      <td>3</td>\n",
              "      <td>35.3</td>\n",
              "      <td>11.3</td>\n",
              "      <td>23.3</td>\n",
              "      <td>...</td>\n",
              "      <td>1.0</td>\n",
              "      <td>3.3</td>\n",
              "      <td>4.3</td>\n",
              "      <td>6.0</td>\n",
              "      <td>1.3</td>\n",
              "      <td>0.7</td>\n",
              "      <td>2.7</td>\n",
              "      <td>4.0</td>\n",
              "      <td>31.3</td>\n",
              "      <td>36.9</td>\n",
              "    </tr>\n",
              "  </tbody>\n",
              "</table>\n",
              "<p>5 rows × 31 columns</p>\n",
              "</div>\n",
              "    <div class=\"colab-df-buttons\">\n",
              "\n",
              "  <div class=\"colab-df-container\">\n",
              "    <button class=\"colab-df-convert\" onclick=\"convertToInteractive('df-f8089494-bba1-460a-b5bb-d72d909b258c')\"\n",
              "            title=\"Convert this dataframe to an interactive table.\"\n",
              "            style=\"display:none;\">\n",
              "\n",
              "  <svg xmlns=\"http://www.w3.org/2000/svg\" height=\"24px\" viewBox=\"0 -960 960 960\">\n",
              "    <path d=\"M120-120v-720h720v720H120Zm60-500h600v-160H180v160Zm220 220h160v-160H400v160Zm0 220h160v-160H400v160ZM180-400h160v-160H180v160Zm440 0h160v-160H620v160ZM180-180h160v-160H180v160Zm440 0h160v-160H620v160Z\"/>\n",
              "  </svg>\n",
              "    </button>\n",
              "\n",
              "  <style>\n",
              "    .colab-df-container {\n",
              "      display:flex;\n",
              "      gap: 12px;\n",
              "    }\n",
              "\n",
              "    .colab-df-convert {\n",
              "      background-color: #E8F0FE;\n",
              "      border: none;\n",
              "      border-radius: 50%;\n",
              "      cursor: pointer;\n",
              "      display: none;\n",
              "      fill: #1967D2;\n",
              "      height: 32px;\n",
              "      padding: 0 0 0 0;\n",
              "      width: 32px;\n",
              "    }\n",
              "\n",
              "    .colab-df-convert:hover {\n",
              "      background-color: #E2EBFA;\n",
              "      box-shadow: 0px 1px 2px rgba(60, 64, 67, 0.3), 0px 1px 3px 1px rgba(60, 64, 67, 0.15);\n",
              "      fill: #174EA6;\n",
              "    }\n",
              "\n",
              "    .colab-df-buttons div {\n",
              "      margin-bottom: 4px;\n",
              "    }\n",
              "\n",
              "    [theme=dark] .colab-df-convert {\n",
              "      background-color: #3B4455;\n",
              "      fill: #D2E3FC;\n",
              "    }\n",
              "\n",
              "    [theme=dark] .colab-df-convert:hover {\n",
              "      background-color: #434B5C;\n",
              "      box-shadow: 0px 1px 3px 1px rgba(0, 0, 0, 0.15);\n",
              "      filter: drop-shadow(0px 1px 2px rgba(0, 0, 0, 0.3));\n",
              "      fill: #FFFFFF;\n",
              "    }\n",
              "  </style>\n",
              "\n",
              "    <script>\n",
              "      const buttonEl =\n",
              "        document.querySelector('#df-f8089494-bba1-460a-b5bb-d72d909b258c button.colab-df-convert');\n",
              "      buttonEl.style.display =\n",
              "        google.colab.kernel.accessAllowed ? 'block' : 'none';\n",
              "\n",
              "      async function convertToInteractive(key) {\n",
              "        const element = document.querySelector('#df-f8089494-bba1-460a-b5bb-d72d909b258c');\n",
              "        const dataTable =\n",
              "          await google.colab.kernel.invokeFunction('convertToInteractive',\n",
              "                                                    [key], {});\n",
              "        if (!dataTable) return;\n",
              "\n",
              "        const docLinkHtml = 'Like what you see? Visit the ' +\n",
              "          '<a target=\"_blank\" href=https://colab.research.google.com/notebooks/data_table.ipynb>data table notebook</a>'\n",
              "          + ' to learn more about interactive tables.';\n",
              "        element.innerHTML = '';\n",
              "        dataTable['output_type'] = 'display_data';\n",
              "        await google.colab.output.renderOutput(dataTable, element);\n",
              "        const docLink = document.createElement('div');\n",
              "        docLink.innerHTML = docLinkHtml;\n",
              "        element.appendChild(docLink);\n",
              "      }\n",
              "    </script>\n",
              "  </div>\n",
              "\n",
              "\n",
              "<div id=\"df-41b375d7-38dd-4ad8-a615-ad5eccd18bef\">\n",
              "  <button class=\"colab-df-quickchart\" onclick=\"quickchart('df-41b375d7-38dd-4ad8-a615-ad5eccd18bef')\"\n",
              "            title=\"Suggest charts\"\n",
              "            style=\"display:none;\">\n",
              "\n",
              "<svg xmlns=\"http://www.w3.org/2000/svg\" height=\"24px\"viewBox=\"0 0 24 24\"\n",
              "     width=\"24px\">\n",
              "    <g>\n",
              "        <path d=\"M19 3H5c-1.1 0-2 .9-2 2v14c0 1.1.9 2 2 2h14c1.1 0 2-.9 2-2V5c0-1.1-.9-2-2-2zM9 17H7v-7h2v7zm4 0h-2V7h2v10zm4 0h-2v-4h2v4z\"/>\n",
              "    </g>\n",
              "</svg>\n",
              "  </button>\n",
              "\n",
              "<style>\n",
              "  .colab-df-quickchart {\n",
              "      --bg-color: #E8F0FE;\n",
              "      --fill-color: #1967D2;\n",
              "      --hover-bg-color: #E2EBFA;\n",
              "      --hover-fill-color: #174EA6;\n",
              "      --disabled-fill-color: #AAA;\n",
              "      --disabled-bg-color: #DDD;\n",
              "  }\n",
              "\n",
              "  [theme=dark] .colab-df-quickchart {\n",
              "      --bg-color: #3B4455;\n",
              "      --fill-color: #D2E3FC;\n",
              "      --hover-bg-color: #434B5C;\n",
              "      --hover-fill-color: #FFFFFF;\n",
              "      --disabled-bg-color: #3B4455;\n",
              "      --disabled-fill-color: #666;\n",
              "  }\n",
              "\n",
              "  .colab-df-quickchart {\n",
              "    background-color: var(--bg-color);\n",
              "    border: none;\n",
              "    border-radius: 50%;\n",
              "    cursor: pointer;\n",
              "    display: none;\n",
              "    fill: var(--fill-color);\n",
              "    height: 32px;\n",
              "    padding: 0;\n",
              "    width: 32px;\n",
              "  }\n",
              "\n",
              "  .colab-df-quickchart:hover {\n",
              "    background-color: var(--hover-bg-color);\n",
              "    box-shadow: 0 1px 2px rgba(60, 64, 67, 0.3), 0 1px 3px 1px rgba(60, 64, 67, 0.15);\n",
              "    fill: var(--button-hover-fill-color);\n",
              "  }\n",
              "\n",
              "  .colab-df-quickchart-complete:disabled,\n",
              "  .colab-df-quickchart-complete:disabled:hover {\n",
              "    background-color: var(--disabled-bg-color);\n",
              "    fill: var(--disabled-fill-color);\n",
              "    box-shadow: none;\n",
              "  }\n",
              "\n",
              "  .colab-df-spinner {\n",
              "    border: 2px solid var(--fill-color);\n",
              "    border-color: transparent;\n",
              "    border-bottom-color: var(--fill-color);\n",
              "    animation:\n",
              "      spin 1s steps(1) infinite;\n",
              "  }\n",
              "\n",
              "  @keyframes spin {\n",
              "    0% {\n",
              "      border-color: transparent;\n",
              "      border-bottom-color: var(--fill-color);\n",
              "      border-left-color: var(--fill-color);\n",
              "    }\n",
              "    20% {\n",
              "      border-color: transparent;\n",
              "      border-left-color: var(--fill-color);\n",
              "      border-top-color: var(--fill-color);\n",
              "    }\n",
              "    30% {\n",
              "      border-color: transparent;\n",
              "      border-left-color: var(--fill-color);\n",
              "      border-top-color: var(--fill-color);\n",
              "      border-right-color: var(--fill-color);\n",
              "    }\n",
              "    40% {\n",
              "      border-color: transparent;\n",
              "      border-right-color: var(--fill-color);\n",
              "      border-top-color: var(--fill-color);\n",
              "    }\n",
              "    60% {\n",
              "      border-color: transparent;\n",
              "      border-right-color: var(--fill-color);\n",
              "    }\n",
              "    80% {\n",
              "      border-color: transparent;\n",
              "      border-right-color: var(--fill-color);\n",
              "      border-bottom-color: var(--fill-color);\n",
              "    }\n",
              "    90% {\n",
              "      border-color: transparent;\n",
              "      border-bottom-color: var(--fill-color);\n",
              "    }\n",
              "  }\n",
              "</style>\n",
              "\n",
              "  <script>\n",
              "    async function quickchart(key) {\n",
              "      const quickchartButtonEl =\n",
              "        document.querySelector('#' + key + ' button');\n",
              "      quickchartButtonEl.disabled = true;  // To prevent multiple clicks.\n",
              "      quickchartButtonEl.classList.add('colab-df-spinner');\n",
              "      try {\n",
              "        const charts = await google.colab.kernel.invokeFunction(\n",
              "            'suggestCharts', [key], {});\n",
              "      } catch (error) {\n",
              "        console.error('Error during call to suggestCharts:', error);\n",
              "      }\n",
              "      quickchartButtonEl.classList.remove('colab-df-spinner');\n",
              "      quickchartButtonEl.classList.add('colab-df-quickchart-complete');\n",
              "    }\n",
              "    (() => {\n",
              "      let quickchartButtonEl =\n",
              "        document.querySelector('#df-41b375d7-38dd-4ad8-a615-ad5eccd18bef button');\n",
              "      quickchartButtonEl.style.display =\n",
              "        google.colab.kernel.accessAllowed ? 'block' : 'none';\n",
              "    })();\n",
              "  </script>\n",
              "</div>\n",
              "    </div>\n",
              "  </div>\n"
            ]
          },
          "metadata": {},
          "execution_count": 354
        }
      ]
    },
    {
      "cell_type": "code",
      "source": [
        "ShootingGuards = df[df['Pos'] == 'SG']"
      ],
      "metadata": {
        "id": "SZewzu6Qpl2O"
      },
      "execution_count": null,
      "outputs": []
    },
    {
      "cell_type": "code",
      "source": [
        "# Again here Devin Booker, top of the list by PER in Shooting guard position, which was also my outlier for PPG\n",
        "sorted_SGs = ShootingGuards.sort_values(by='PER', ascending=False)\n",
        "sorted_SGs.head()"
      ],
      "metadata": {
        "colab": {
          "base_uri": "https://localhost:8080/",
          "height": 235
        },
        "id": "_xNKnpmkpqgg",
        "outputId": "ae9a2d10-e448-473a-ce11-d5f1d96fcf51"
      },
      "execution_count": null,
      "outputs": [
        {
          "output_type": "execute_result",
          "data": {
            "text/plain": [
              "      Rk            Player Pos  Age   Tm  G  GS    MP    FG   FGA  ...  ORB  \\\n",
              "46    45      Devin Booker  SG   27  PHO  2   2  36.0  11.5  20.0  ...  1.0   \n",
              "286  281  Donovan Mitchell  SG   27  CLE  7   7  35.9  11.1  21.9  ...  1.1   \n",
              "25    26    Scottie Barnes  SG   22  TOR  8   8  36.9   8.0  16.5  ...  3.0   \n",
              "112  109   Anthony Edwards  SG   22  MIN  8   8  35.6  10.4  20.8  ...  0.9   \n",
              "21    22      Desmond Bane  SG   25  MEM  9   9  35.6   9.8  21.3  ...  0.7   \n",
              "\n",
              "     DRB   TRB   AST  STL  BLK  TOV   PF   PTS   PER  \n",
              "46   6.5   7.5  10.5  0.5  0.0  5.5  4.0  31.5  40.5  \n",
              "286  3.7   4.9   5.6  2.3  0.6  2.7  2.1  30.7  39.3  \n",
              "25   7.4  10.4   6.0  1.5  2.1  2.9  2.5  21.5  36.1  \n",
              "112  5.4   6.3   5.3  1.3  0.4  3.6  2.0  27.9  35.6  \n",
              "21   4.2   4.9   4.3  1.8  1.0  2.6  3.1  26.4  32.7  \n",
              "\n",
              "[5 rows x 31 columns]"
            ],
            "text/html": [
              "\n",
              "  <div id=\"df-a245730d-0a9c-4e7c-9e61-9abb3cafacf9\" class=\"colab-df-container\">\n",
              "    <div>\n",
              "<style scoped>\n",
              "    .dataframe tbody tr th:only-of-type {\n",
              "        vertical-align: middle;\n",
              "    }\n",
              "\n",
              "    .dataframe tbody tr th {\n",
              "        vertical-align: top;\n",
              "    }\n",
              "\n",
              "    .dataframe thead th {\n",
              "        text-align: right;\n",
              "    }\n",
              "</style>\n",
              "<table border=\"1\" class=\"dataframe\">\n",
              "  <thead>\n",
              "    <tr style=\"text-align: right;\">\n",
              "      <th></th>\n",
              "      <th>Rk</th>\n",
              "      <th>Player</th>\n",
              "      <th>Pos</th>\n",
              "      <th>Age</th>\n",
              "      <th>Tm</th>\n",
              "      <th>G</th>\n",
              "      <th>GS</th>\n",
              "      <th>MP</th>\n",
              "      <th>FG</th>\n",
              "      <th>FGA</th>\n",
              "      <th>...</th>\n",
              "      <th>ORB</th>\n",
              "      <th>DRB</th>\n",
              "      <th>TRB</th>\n",
              "      <th>AST</th>\n",
              "      <th>STL</th>\n",
              "      <th>BLK</th>\n",
              "      <th>TOV</th>\n",
              "      <th>PF</th>\n",
              "      <th>PTS</th>\n",
              "      <th>PER</th>\n",
              "    </tr>\n",
              "  </thead>\n",
              "  <tbody>\n",
              "    <tr>\n",
              "      <th>46</th>\n",
              "      <td>45</td>\n",
              "      <td>Devin Booker</td>\n",
              "      <td>SG</td>\n",
              "      <td>27</td>\n",
              "      <td>PHO</td>\n",
              "      <td>2</td>\n",
              "      <td>2</td>\n",
              "      <td>36.0</td>\n",
              "      <td>11.5</td>\n",
              "      <td>20.0</td>\n",
              "      <td>...</td>\n",
              "      <td>1.0</td>\n",
              "      <td>6.5</td>\n",
              "      <td>7.5</td>\n",
              "      <td>10.5</td>\n",
              "      <td>0.5</td>\n",
              "      <td>0.0</td>\n",
              "      <td>5.5</td>\n",
              "      <td>4.0</td>\n",
              "      <td>31.5</td>\n",
              "      <td>40.5</td>\n",
              "    </tr>\n",
              "    <tr>\n",
              "      <th>286</th>\n",
              "      <td>281</td>\n",
              "      <td>Donovan Mitchell</td>\n",
              "      <td>SG</td>\n",
              "      <td>27</td>\n",
              "      <td>CLE</td>\n",
              "      <td>7</td>\n",
              "      <td>7</td>\n",
              "      <td>35.9</td>\n",
              "      <td>11.1</td>\n",
              "      <td>21.9</td>\n",
              "      <td>...</td>\n",
              "      <td>1.1</td>\n",
              "      <td>3.7</td>\n",
              "      <td>4.9</td>\n",
              "      <td>5.6</td>\n",
              "      <td>2.3</td>\n",
              "      <td>0.6</td>\n",
              "      <td>2.7</td>\n",
              "      <td>2.1</td>\n",
              "      <td>30.7</td>\n",
              "      <td>39.3</td>\n",
              "    </tr>\n",
              "    <tr>\n",
              "      <th>25</th>\n",
              "      <td>26</td>\n",
              "      <td>Scottie Barnes</td>\n",
              "      <td>SG</td>\n",
              "      <td>22</td>\n",
              "      <td>TOR</td>\n",
              "      <td>8</td>\n",
              "      <td>8</td>\n",
              "      <td>36.9</td>\n",
              "      <td>8.0</td>\n",
              "      <td>16.5</td>\n",
              "      <td>...</td>\n",
              "      <td>3.0</td>\n",
              "      <td>7.4</td>\n",
              "      <td>10.4</td>\n",
              "      <td>6.0</td>\n",
              "      <td>1.5</td>\n",
              "      <td>2.1</td>\n",
              "      <td>2.9</td>\n",
              "      <td>2.5</td>\n",
              "      <td>21.5</td>\n",
              "      <td>36.1</td>\n",
              "    </tr>\n",
              "    <tr>\n",
              "      <th>112</th>\n",
              "      <td>109</td>\n",
              "      <td>Anthony Edwards</td>\n",
              "      <td>SG</td>\n",
              "      <td>22</td>\n",
              "      <td>MIN</td>\n",
              "      <td>8</td>\n",
              "      <td>8</td>\n",
              "      <td>35.6</td>\n",
              "      <td>10.4</td>\n",
              "      <td>20.8</td>\n",
              "      <td>...</td>\n",
              "      <td>0.9</td>\n",
              "      <td>5.4</td>\n",
              "      <td>6.3</td>\n",
              "      <td>5.3</td>\n",
              "      <td>1.3</td>\n",
              "      <td>0.4</td>\n",
              "      <td>3.6</td>\n",
              "      <td>2.0</td>\n",
              "      <td>27.9</td>\n",
              "      <td>35.6</td>\n",
              "    </tr>\n",
              "    <tr>\n",
              "      <th>21</th>\n",
              "      <td>22</td>\n",
              "      <td>Desmond Bane</td>\n",
              "      <td>SG</td>\n",
              "      <td>25</td>\n",
              "      <td>MEM</td>\n",
              "      <td>9</td>\n",
              "      <td>9</td>\n",
              "      <td>35.6</td>\n",
              "      <td>9.8</td>\n",
              "      <td>21.3</td>\n",
              "      <td>...</td>\n",
              "      <td>0.7</td>\n",
              "      <td>4.2</td>\n",
              "      <td>4.9</td>\n",
              "      <td>4.3</td>\n",
              "      <td>1.8</td>\n",
              "      <td>1.0</td>\n",
              "      <td>2.6</td>\n",
              "      <td>3.1</td>\n",
              "      <td>26.4</td>\n",
              "      <td>32.7</td>\n",
              "    </tr>\n",
              "  </tbody>\n",
              "</table>\n",
              "<p>5 rows × 31 columns</p>\n",
              "</div>\n",
              "    <div class=\"colab-df-buttons\">\n",
              "\n",
              "  <div class=\"colab-df-container\">\n",
              "    <button class=\"colab-df-convert\" onclick=\"convertToInteractive('df-a245730d-0a9c-4e7c-9e61-9abb3cafacf9')\"\n",
              "            title=\"Convert this dataframe to an interactive table.\"\n",
              "            style=\"display:none;\">\n",
              "\n",
              "  <svg xmlns=\"http://www.w3.org/2000/svg\" height=\"24px\" viewBox=\"0 -960 960 960\">\n",
              "    <path d=\"M120-120v-720h720v720H120Zm60-500h600v-160H180v160Zm220 220h160v-160H400v160Zm0 220h160v-160H400v160ZM180-400h160v-160H180v160Zm440 0h160v-160H620v160ZM180-180h160v-160H180v160Zm440 0h160v-160H620v160Z\"/>\n",
              "  </svg>\n",
              "    </button>\n",
              "\n",
              "  <style>\n",
              "    .colab-df-container {\n",
              "      display:flex;\n",
              "      gap: 12px;\n",
              "    }\n",
              "\n",
              "    .colab-df-convert {\n",
              "      background-color: #E8F0FE;\n",
              "      border: none;\n",
              "      border-radius: 50%;\n",
              "      cursor: pointer;\n",
              "      display: none;\n",
              "      fill: #1967D2;\n",
              "      height: 32px;\n",
              "      padding: 0 0 0 0;\n",
              "      width: 32px;\n",
              "    }\n",
              "\n",
              "    .colab-df-convert:hover {\n",
              "      background-color: #E2EBFA;\n",
              "      box-shadow: 0px 1px 2px rgba(60, 64, 67, 0.3), 0px 1px 3px 1px rgba(60, 64, 67, 0.15);\n",
              "      fill: #174EA6;\n",
              "    }\n",
              "\n",
              "    .colab-df-buttons div {\n",
              "      margin-bottom: 4px;\n",
              "    }\n",
              "\n",
              "    [theme=dark] .colab-df-convert {\n",
              "      background-color: #3B4455;\n",
              "      fill: #D2E3FC;\n",
              "    }\n",
              "\n",
              "    [theme=dark] .colab-df-convert:hover {\n",
              "      background-color: #434B5C;\n",
              "      box-shadow: 0px 1px 3px 1px rgba(0, 0, 0, 0.15);\n",
              "      filter: drop-shadow(0px 1px 2px rgba(0, 0, 0, 0.3));\n",
              "      fill: #FFFFFF;\n",
              "    }\n",
              "  </style>\n",
              "\n",
              "    <script>\n",
              "      const buttonEl =\n",
              "        document.querySelector('#df-a245730d-0a9c-4e7c-9e61-9abb3cafacf9 button.colab-df-convert');\n",
              "      buttonEl.style.display =\n",
              "        google.colab.kernel.accessAllowed ? 'block' : 'none';\n",
              "\n",
              "      async function convertToInteractive(key) {\n",
              "        const element = document.querySelector('#df-a245730d-0a9c-4e7c-9e61-9abb3cafacf9');\n",
              "        const dataTable =\n",
              "          await google.colab.kernel.invokeFunction('convertToInteractive',\n",
              "                                                    [key], {});\n",
              "        if (!dataTable) return;\n",
              "\n",
              "        const docLinkHtml = 'Like what you see? Visit the ' +\n",
              "          '<a target=\"_blank\" href=https://colab.research.google.com/notebooks/data_table.ipynb>data table notebook</a>'\n",
              "          + ' to learn more about interactive tables.';\n",
              "        element.innerHTML = '';\n",
              "        dataTable['output_type'] = 'display_data';\n",
              "        await google.colab.output.renderOutput(dataTable, element);\n",
              "        const docLink = document.createElement('div');\n",
              "        docLink.innerHTML = docLinkHtml;\n",
              "        element.appendChild(docLink);\n",
              "      }\n",
              "    </script>\n",
              "  </div>\n",
              "\n",
              "\n",
              "<div id=\"df-2855ec82-7a6e-49e6-a7a7-347769c6cb9c\">\n",
              "  <button class=\"colab-df-quickchart\" onclick=\"quickchart('df-2855ec82-7a6e-49e6-a7a7-347769c6cb9c')\"\n",
              "            title=\"Suggest charts\"\n",
              "            style=\"display:none;\">\n",
              "\n",
              "<svg xmlns=\"http://www.w3.org/2000/svg\" height=\"24px\"viewBox=\"0 0 24 24\"\n",
              "     width=\"24px\">\n",
              "    <g>\n",
              "        <path d=\"M19 3H5c-1.1 0-2 .9-2 2v14c0 1.1.9 2 2 2h14c1.1 0 2-.9 2-2V5c0-1.1-.9-2-2-2zM9 17H7v-7h2v7zm4 0h-2V7h2v10zm4 0h-2v-4h2v4z\"/>\n",
              "    </g>\n",
              "</svg>\n",
              "  </button>\n",
              "\n",
              "<style>\n",
              "  .colab-df-quickchart {\n",
              "      --bg-color: #E8F0FE;\n",
              "      --fill-color: #1967D2;\n",
              "      --hover-bg-color: #E2EBFA;\n",
              "      --hover-fill-color: #174EA6;\n",
              "      --disabled-fill-color: #AAA;\n",
              "      --disabled-bg-color: #DDD;\n",
              "  }\n",
              "\n",
              "  [theme=dark] .colab-df-quickchart {\n",
              "      --bg-color: #3B4455;\n",
              "      --fill-color: #D2E3FC;\n",
              "      --hover-bg-color: #434B5C;\n",
              "      --hover-fill-color: #FFFFFF;\n",
              "      --disabled-bg-color: #3B4455;\n",
              "      --disabled-fill-color: #666;\n",
              "  }\n",
              "\n",
              "  .colab-df-quickchart {\n",
              "    background-color: var(--bg-color);\n",
              "    border: none;\n",
              "    border-radius: 50%;\n",
              "    cursor: pointer;\n",
              "    display: none;\n",
              "    fill: var(--fill-color);\n",
              "    height: 32px;\n",
              "    padding: 0;\n",
              "    width: 32px;\n",
              "  }\n",
              "\n",
              "  .colab-df-quickchart:hover {\n",
              "    background-color: var(--hover-bg-color);\n",
              "    box-shadow: 0 1px 2px rgba(60, 64, 67, 0.3), 0 1px 3px 1px rgba(60, 64, 67, 0.15);\n",
              "    fill: var(--button-hover-fill-color);\n",
              "  }\n",
              "\n",
              "  .colab-df-quickchart-complete:disabled,\n",
              "  .colab-df-quickchart-complete:disabled:hover {\n",
              "    background-color: var(--disabled-bg-color);\n",
              "    fill: var(--disabled-fill-color);\n",
              "    box-shadow: none;\n",
              "  }\n",
              "\n",
              "  .colab-df-spinner {\n",
              "    border: 2px solid var(--fill-color);\n",
              "    border-color: transparent;\n",
              "    border-bottom-color: var(--fill-color);\n",
              "    animation:\n",
              "      spin 1s steps(1) infinite;\n",
              "  }\n",
              "\n",
              "  @keyframes spin {\n",
              "    0% {\n",
              "      border-color: transparent;\n",
              "      border-bottom-color: var(--fill-color);\n",
              "      border-left-color: var(--fill-color);\n",
              "    }\n",
              "    20% {\n",
              "      border-color: transparent;\n",
              "      border-left-color: var(--fill-color);\n",
              "      border-top-color: var(--fill-color);\n",
              "    }\n",
              "    30% {\n",
              "      border-color: transparent;\n",
              "      border-left-color: var(--fill-color);\n",
              "      border-top-color: var(--fill-color);\n",
              "      border-right-color: var(--fill-color);\n",
              "    }\n",
              "    40% {\n",
              "      border-color: transparent;\n",
              "      border-right-color: var(--fill-color);\n",
              "      border-top-color: var(--fill-color);\n",
              "    }\n",
              "    60% {\n",
              "      border-color: transparent;\n",
              "      border-right-color: var(--fill-color);\n",
              "    }\n",
              "    80% {\n",
              "      border-color: transparent;\n",
              "      border-right-color: var(--fill-color);\n",
              "      border-bottom-color: var(--fill-color);\n",
              "    }\n",
              "    90% {\n",
              "      border-color: transparent;\n",
              "      border-bottom-color: var(--fill-color);\n",
              "    }\n",
              "  }\n",
              "</style>\n",
              "\n",
              "  <script>\n",
              "    async function quickchart(key) {\n",
              "      const quickchartButtonEl =\n",
              "        document.querySelector('#' + key + ' button');\n",
              "      quickchartButtonEl.disabled = true;  // To prevent multiple clicks.\n",
              "      quickchartButtonEl.classList.add('colab-df-spinner');\n",
              "      try {\n",
              "        const charts = await google.colab.kernel.invokeFunction(\n",
              "            'suggestCharts', [key], {});\n",
              "      } catch (error) {\n",
              "        console.error('Error during call to suggestCharts:', error);\n",
              "      }\n",
              "      quickchartButtonEl.classList.remove('colab-df-spinner');\n",
              "      quickchartButtonEl.classList.add('colab-df-quickchart-complete');\n",
              "    }\n",
              "    (() => {\n",
              "      let quickchartButtonEl =\n",
              "        document.querySelector('#df-2855ec82-7a6e-49e6-a7a7-347769c6cb9c button');\n",
              "      quickchartButtonEl.style.display =\n",
              "        google.colab.kernel.accessAllowed ? 'block' : 'none';\n",
              "    })();\n",
              "  </script>\n",
              "</div>\n",
              "    </div>\n",
              "  </div>\n"
            ]
          },
          "metadata": {},
          "execution_count": 356
        }
      ]
    },
    {
      "cell_type": "code",
      "source": [
        "Centers = df[df['Pos'] == 'C']"
      ],
      "metadata": {
        "id": "oEaz-xKhBqrS"
      },
      "execution_count": null,
      "outputs": []
    },
    {
      "cell_type": "code",
      "source": [
        "#Again Joel Embid Ranking #2 by PER in the league, was also an outlier by PPG in my dataset.\n",
        "sorted_Cs = Centers.sort_values(by='PER', ascending=False)\n",
        "sorted_Cs.head()"
      ],
      "metadata": {
        "id": "a2FOpSLYBvgI",
        "colab": {
          "base_uri": "https://localhost:8080/",
          "height": 235
        },
        "outputId": "8cddc82a-4874-4e4e-8827-4f2d98be9911"
      },
      "execution_count": null,
      "outputs": [
        {
          "output_type": "execute_result",
          "data": {
            "text/plain": [
              "      Rk            Player Pos  Age   Tm  G  GS    MP    FG   FGA  ...  ORB  \\\n",
              "211  208      Nikola Joki?   C   28  DEN  9   9  34.2  11.9  19.1  ...  3.1   \n",
              "115  112       Joel Embiid   C   29  PHI  8   8  33.9  10.9  21.3  ...  2.9   \n",
              "95    92     Anthony Davis   C   30  LAL  8   8  36.8   8.5  16.0  ...  3.3   \n",
              "358  353  Domantas Sabonis   C   27  SAC  8   8  34.8   6.8  12.0  ...  4.1   \n",
              "1      2       Bam Adebayo   C   26  MIA  7   7  34.0   8.1  16.0  ...  2.1   \n",
              "\n",
              "     DRB   TRB  AST  STL  BLK  TOV   PF   PTS   PER  \n",
              "211  9.8  12.9  8.0  1.1  0.8  3.4  2.1  29.1  46.4  \n",
              "115  8.6  11.5  5.5  0.6  2.3  3.9  2.5  31.9  45.4  \n",
              "95   8.6  11.9  3.4  0.9  3.0  1.4  3.3  23.1  37.6  \n",
              "358  8.8  12.9  7.0  1.0  0.9  3.6  3.4  17.4  32.2  \n",
              "1    7.3   9.4  3.4  0.9  1.6  3.6  2.6  22.7  31.8  \n",
              "\n",
              "[5 rows x 31 columns]"
            ],
            "text/html": [
              "\n",
              "  <div id=\"df-ed069559-4872-4e13-8fb2-e13a79035458\" class=\"colab-df-container\">\n",
              "    <div>\n",
              "<style scoped>\n",
              "    .dataframe tbody tr th:only-of-type {\n",
              "        vertical-align: middle;\n",
              "    }\n",
              "\n",
              "    .dataframe tbody tr th {\n",
              "        vertical-align: top;\n",
              "    }\n",
              "\n",
              "    .dataframe thead th {\n",
              "        text-align: right;\n",
              "    }\n",
              "</style>\n",
              "<table border=\"1\" class=\"dataframe\">\n",
              "  <thead>\n",
              "    <tr style=\"text-align: right;\">\n",
              "      <th></th>\n",
              "      <th>Rk</th>\n",
              "      <th>Player</th>\n",
              "      <th>Pos</th>\n",
              "      <th>Age</th>\n",
              "      <th>Tm</th>\n",
              "      <th>G</th>\n",
              "      <th>GS</th>\n",
              "      <th>MP</th>\n",
              "      <th>FG</th>\n",
              "      <th>FGA</th>\n",
              "      <th>...</th>\n",
              "      <th>ORB</th>\n",
              "      <th>DRB</th>\n",
              "      <th>TRB</th>\n",
              "      <th>AST</th>\n",
              "      <th>STL</th>\n",
              "      <th>BLK</th>\n",
              "      <th>TOV</th>\n",
              "      <th>PF</th>\n",
              "      <th>PTS</th>\n",
              "      <th>PER</th>\n",
              "    </tr>\n",
              "  </thead>\n",
              "  <tbody>\n",
              "    <tr>\n",
              "      <th>211</th>\n",
              "      <td>208</td>\n",
              "      <td>Nikola Joki?</td>\n",
              "      <td>C</td>\n",
              "      <td>28</td>\n",
              "      <td>DEN</td>\n",
              "      <td>9</td>\n",
              "      <td>9</td>\n",
              "      <td>34.2</td>\n",
              "      <td>11.9</td>\n",
              "      <td>19.1</td>\n",
              "      <td>...</td>\n",
              "      <td>3.1</td>\n",
              "      <td>9.8</td>\n",
              "      <td>12.9</td>\n",
              "      <td>8.0</td>\n",
              "      <td>1.1</td>\n",
              "      <td>0.8</td>\n",
              "      <td>3.4</td>\n",
              "      <td>2.1</td>\n",
              "      <td>29.1</td>\n",
              "      <td>46.4</td>\n",
              "    </tr>\n",
              "    <tr>\n",
              "      <th>115</th>\n",
              "      <td>112</td>\n",
              "      <td>Joel Embiid</td>\n",
              "      <td>C</td>\n",
              "      <td>29</td>\n",
              "      <td>PHI</td>\n",
              "      <td>8</td>\n",
              "      <td>8</td>\n",
              "      <td>33.9</td>\n",
              "      <td>10.9</td>\n",
              "      <td>21.3</td>\n",
              "      <td>...</td>\n",
              "      <td>2.9</td>\n",
              "      <td>8.6</td>\n",
              "      <td>11.5</td>\n",
              "      <td>5.5</td>\n",
              "      <td>0.6</td>\n",
              "      <td>2.3</td>\n",
              "      <td>3.9</td>\n",
              "      <td>2.5</td>\n",
              "      <td>31.9</td>\n",
              "      <td>45.4</td>\n",
              "    </tr>\n",
              "    <tr>\n",
              "      <th>95</th>\n",
              "      <td>92</td>\n",
              "      <td>Anthony Davis</td>\n",
              "      <td>C</td>\n",
              "      <td>30</td>\n",
              "      <td>LAL</td>\n",
              "      <td>8</td>\n",
              "      <td>8</td>\n",
              "      <td>36.8</td>\n",
              "      <td>8.5</td>\n",
              "      <td>16.0</td>\n",
              "      <td>...</td>\n",
              "      <td>3.3</td>\n",
              "      <td>8.6</td>\n",
              "      <td>11.9</td>\n",
              "      <td>3.4</td>\n",
              "      <td>0.9</td>\n",
              "      <td>3.0</td>\n",
              "      <td>1.4</td>\n",
              "      <td>3.3</td>\n",
              "      <td>23.1</td>\n",
              "      <td>37.6</td>\n",
              "    </tr>\n",
              "    <tr>\n",
              "      <th>358</th>\n",
              "      <td>353</td>\n",
              "      <td>Domantas Sabonis</td>\n",
              "      <td>C</td>\n",
              "      <td>27</td>\n",
              "      <td>SAC</td>\n",
              "      <td>8</td>\n",
              "      <td>8</td>\n",
              "      <td>34.8</td>\n",
              "      <td>6.8</td>\n",
              "      <td>12.0</td>\n",
              "      <td>...</td>\n",
              "      <td>4.1</td>\n",
              "      <td>8.8</td>\n",
              "      <td>12.9</td>\n",
              "      <td>7.0</td>\n",
              "      <td>1.0</td>\n",
              "      <td>0.9</td>\n",
              "      <td>3.6</td>\n",
              "      <td>3.4</td>\n",
              "      <td>17.4</td>\n",
              "      <td>32.2</td>\n",
              "    </tr>\n",
              "    <tr>\n",
              "      <th>1</th>\n",
              "      <td>2</td>\n",
              "      <td>Bam Adebayo</td>\n",
              "      <td>C</td>\n",
              "      <td>26</td>\n",
              "      <td>MIA</td>\n",
              "      <td>7</td>\n",
              "      <td>7</td>\n",
              "      <td>34.0</td>\n",
              "      <td>8.1</td>\n",
              "      <td>16.0</td>\n",
              "      <td>...</td>\n",
              "      <td>2.1</td>\n",
              "      <td>7.3</td>\n",
              "      <td>9.4</td>\n",
              "      <td>3.4</td>\n",
              "      <td>0.9</td>\n",
              "      <td>1.6</td>\n",
              "      <td>3.6</td>\n",
              "      <td>2.6</td>\n",
              "      <td>22.7</td>\n",
              "      <td>31.8</td>\n",
              "    </tr>\n",
              "  </tbody>\n",
              "</table>\n",
              "<p>5 rows × 31 columns</p>\n",
              "</div>\n",
              "    <div class=\"colab-df-buttons\">\n",
              "\n",
              "  <div class=\"colab-df-container\">\n",
              "    <button class=\"colab-df-convert\" onclick=\"convertToInteractive('df-ed069559-4872-4e13-8fb2-e13a79035458')\"\n",
              "            title=\"Convert this dataframe to an interactive table.\"\n",
              "            style=\"display:none;\">\n",
              "\n",
              "  <svg xmlns=\"http://www.w3.org/2000/svg\" height=\"24px\" viewBox=\"0 -960 960 960\">\n",
              "    <path d=\"M120-120v-720h720v720H120Zm60-500h600v-160H180v160Zm220 220h160v-160H400v160Zm0 220h160v-160H400v160ZM180-400h160v-160H180v160Zm440 0h160v-160H620v160ZM180-180h160v-160H180v160Zm440 0h160v-160H620v160Z\"/>\n",
              "  </svg>\n",
              "    </button>\n",
              "\n",
              "  <style>\n",
              "    .colab-df-container {\n",
              "      display:flex;\n",
              "      gap: 12px;\n",
              "    }\n",
              "\n",
              "    .colab-df-convert {\n",
              "      background-color: #E8F0FE;\n",
              "      border: none;\n",
              "      border-radius: 50%;\n",
              "      cursor: pointer;\n",
              "      display: none;\n",
              "      fill: #1967D2;\n",
              "      height: 32px;\n",
              "      padding: 0 0 0 0;\n",
              "      width: 32px;\n",
              "    }\n",
              "\n",
              "    .colab-df-convert:hover {\n",
              "      background-color: #E2EBFA;\n",
              "      box-shadow: 0px 1px 2px rgba(60, 64, 67, 0.3), 0px 1px 3px 1px rgba(60, 64, 67, 0.15);\n",
              "      fill: #174EA6;\n",
              "    }\n",
              "\n",
              "    .colab-df-buttons div {\n",
              "      margin-bottom: 4px;\n",
              "    }\n",
              "\n",
              "    [theme=dark] .colab-df-convert {\n",
              "      background-color: #3B4455;\n",
              "      fill: #D2E3FC;\n",
              "    }\n",
              "\n",
              "    [theme=dark] .colab-df-convert:hover {\n",
              "      background-color: #434B5C;\n",
              "      box-shadow: 0px 1px 3px 1px rgba(0, 0, 0, 0.15);\n",
              "      filter: drop-shadow(0px 1px 2px rgba(0, 0, 0, 0.3));\n",
              "      fill: #FFFFFF;\n",
              "    }\n",
              "  </style>\n",
              "\n",
              "    <script>\n",
              "      const buttonEl =\n",
              "        document.querySelector('#df-ed069559-4872-4e13-8fb2-e13a79035458 button.colab-df-convert');\n",
              "      buttonEl.style.display =\n",
              "        google.colab.kernel.accessAllowed ? 'block' : 'none';\n",
              "\n",
              "      async function convertToInteractive(key) {\n",
              "        const element = document.querySelector('#df-ed069559-4872-4e13-8fb2-e13a79035458');\n",
              "        const dataTable =\n",
              "          await google.colab.kernel.invokeFunction('convertToInteractive',\n",
              "                                                    [key], {});\n",
              "        if (!dataTable) return;\n",
              "\n",
              "        const docLinkHtml = 'Like what you see? Visit the ' +\n",
              "          '<a target=\"_blank\" href=https://colab.research.google.com/notebooks/data_table.ipynb>data table notebook</a>'\n",
              "          + ' to learn more about interactive tables.';\n",
              "        element.innerHTML = '';\n",
              "        dataTable['output_type'] = 'display_data';\n",
              "        await google.colab.output.renderOutput(dataTable, element);\n",
              "        const docLink = document.createElement('div');\n",
              "        docLink.innerHTML = docLinkHtml;\n",
              "        element.appendChild(docLink);\n",
              "      }\n",
              "    </script>\n",
              "  </div>\n",
              "\n",
              "\n",
              "<div id=\"df-858a31fd-d7c3-4e9e-a456-8ab22239d278\">\n",
              "  <button class=\"colab-df-quickchart\" onclick=\"quickchart('df-858a31fd-d7c3-4e9e-a456-8ab22239d278')\"\n",
              "            title=\"Suggest charts\"\n",
              "            style=\"display:none;\">\n",
              "\n",
              "<svg xmlns=\"http://www.w3.org/2000/svg\" height=\"24px\"viewBox=\"0 0 24 24\"\n",
              "     width=\"24px\">\n",
              "    <g>\n",
              "        <path d=\"M19 3H5c-1.1 0-2 .9-2 2v14c0 1.1.9 2 2 2h14c1.1 0 2-.9 2-2V5c0-1.1-.9-2-2-2zM9 17H7v-7h2v7zm4 0h-2V7h2v10zm4 0h-2v-4h2v4z\"/>\n",
              "    </g>\n",
              "</svg>\n",
              "  </button>\n",
              "\n",
              "<style>\n",
              "  .colab-df-quickchart {\n",
              "      --bg-color: #E8F0FE;\n",
              "      --fill-color: #1967D2;\n",
              "      --hover-bg-color: #E2EBFA;\n",
              "      --hover-fill-color: #174EA6;\n",
              "      --disabled-fill-color: #AAA;\n",
              "      --disabled-bg-color: #DDD;\n",
              "  }\n",
              "\n",
              "  [theme=dark] .colab-df-quickchart {\n",
              "      --bg-color: #3B4455;\n",
              "      --fill-color: #D2E3FC;\n",
              "      --hover-bg-color: #434B5C;\n",
              "      --hover-fill-color: #FFFFFF;\n",
              "      --disabled-bg-color: #3B4455;\n",
              "      --disabled-fill-color: #666;\n",
              "  }\n",
              "\n",
              "  .colab-df-quickchart {\n",
              "    background-color: var(--bg-color);\n",
              "    border: none;\n",
              "    border-radius: 50%;\n",
              "    cursor: pointer;\n",
              "    display: none;\n",
              "    fill: var(--fill-color);\n",
              "    height: 32px;\n",
              "    padding: 0;\n",
              "    width: 32px;\n",
              "  }\n",
              "\n",
              "  .colab-df-quickchart:hover {\n",
              "    background-color: var(--hover-bg-color);\n",
              "    box-shadow: 0 1px 2px rgba(60, 64, 67, 0.3), 0 1px 3px 1px rgba(60, 64, 67, 0.15);\n",
              "    fill: var(--button-hover-fill-color);\n",
              "  }\n",
              "\n",
              "  .colab-df-quickchart-complete:disabled,\n",
              "  .colab-df-quickchart-complete:disabled:hover {\n",
              "    background-color: var(--disabled-bg-color);\n",
              "    fill: var(--disabled-fill-color);\n",
              "    box-shadow: none;\n",
              "  }\n",
              "\n",
              "  .colab-df-spinner {\n",
              "    border: 2px solid var(--fill-color);\n",
              "    border-color: transparent;\n",
              "    border-bottom-color: var(--fill-color);\n",
              "    animation:\n",
              "      spin 1s steps(1) infinite;\n",
              "  }\n",
              "\n",
              "  @keyframes spin {\n",
              "    0% {\n",
              "      border-color: transparent;\n",
              "      border-bottom-color: var(--fill-color);\n",
              "      border-left-color: var(--fill-color);\n",
              "    }\n",
              "    20% {\n",
              "      border-color: transparent;\n",
              "      border-left-color: var(--fill-color);\n",
              "      border-top-color: var(--fill-color);\n",
              "    }\n",
              "    30% {\n",
              "      border-color: transparent;\n",
              "      border-left-color: var(--fill-color);\n",
              "      border-top-color: var(--fill-color);\n",
              "      border-right-color: var(--fill-color);\n",
              "    }\n",
              "    40% {\n",
              "      border-color: transparent;\n",
              "      border-right-color: var(--fill-color);\n",
              "      border-top-color: var(--fill-color);\n",
              "    }\n",
              "    60% {\n",
              "      border-color: transparent;\n",
              "      border-right-color: var(--fill-color);\n",
              "    }\n",
              "    80% {\n",
              "      border-color: transparent;\n",
              "      border-right-color: var(--fill-color);\n",
              "      border-bottom-color: var(--fill-color);\n",
              "    }\n",
              "    90% {\n",
              "      border-color: transparent;\n",
              "      border-bottom-color: var(--fill-color);\n",
              "    }\n",
              "  }\n",
              "</style>\n",
              "\n",
              "  <script>\n",
              "    async function quickchart(key) {\n",
              "      const quickchartButtonEl =\n",
              "        document.querySelector('#' + key + ' button');\n",
              "      quickchartButtonEl.disabled = true;  // To prevent multiple clicks.\n",
              "      quickchartButtonEl.classList.add('colab-df-spinner');\n",
              "      try {\n",
              "        const charts = await google.colab.kernel.invokeFunction(\n",
              "            'suggestCharts', [key], {});\n",
              "      } catch (error) {\n",
              "        console.error('Error during call to suggestCharts:', error);\n",
              "      }\n",
              "      quickchartButtonEl.classList.remove('colab-df-spinner');\n",
              "      quickchartButtonEl.classList.add('colab-df-quickchart-complete');\n",
              "    }\n",
              "    (() => {\n",
              "      let quickchartButtonEl =\n",
              "        document.querySelector('#df-858a31fd-d7c3-4e9e-a456-8ab22239d278 button');\n",
              "      quickchartButtonEl.style.display =\n",
              "        google.colab.kernel.accessAllowed ? 'block' : 'none';\n",
              "    })();\n",
              "  </script>\n",
              "</div>\n",
              "    </div>\n",
              "  </div>\n"
            ]
          },
          "metadata": {},
          "execution_count": 358
        }
      ]
    },
    {
      "cell_type": "code",
      "source": [
        "#Data Preparation #1\n",
        "#Here I am looking for any missing values, but there is none.\n",
        "df.isna().sum()"
      ],
      "metadata": {
        "colab": {
          "base_uri": "https://localhost:8080/"
        },
        "id": "vFrjXNDD5KIV",
        "outputId": "916969fb-320f-434f-be1c-6bde73fc583d"
      },
      "execution_count": null,
      "outputs": [
        {
          "output_type": "execute_result",
          "data": {
            "text/plain": [
              "Rk        0\n",
              "Player    0\n",
              "Pos       0\n",
              "Age       0\n",
              "Tm        0\n",
              "G         0\n",
              "GS        0\n",
              "MP        0\n",
              "FG        0\n",
              "FGA       0\n",
              "FG%       0\n",
              "3P        0\n",
              "3PA       0\n",
              "3P%       0\n",
              "2P        0\n",
              "2PA       0\n",
              "2P%       0\n",
              "eFG%      0\n",
              "FT        0\n",
              "FTA       0\n",
              "FT%       0\n",
              "ORB       0\n",
              "DRB       0\n",
              "TRB       0\n",
              "AST       0\n",
              "STL       0\n",
              "BLK       0\n",
              "TOV       0\n",
              "PF        0\n",
              "PTS       0\n",
              "PER       0\n",
              "dtype: int64"
            ]
          },
          "metadata": {},
          "execution_count": 359
        }
      ]
    },
    {
      "cell_type": "code",
      "source": [
        "df.dtypes"
      ],
      "metadata": {
        "id": "JEfP5udm5uAw",
        "colab": {
          "base_uri": "https://localhost:8080/"
        },
        "outputId": "30aef345-33d3-4bec-dd3f-232e0212299a"
      },
      "execution_count": null,
      "outputs": [
        {
          "output_type": "execute_result",
          "data": {
            "text/plain": [
              "Rk          int64\n",
              "Player     object\n",
              "Pos        object\n",
              "Age         int64\n",
              "Tm         object\n",
              "G           int64\n",
              "GS          int64\n",
              "MP        float64\n",
              "FG        float64\n",
              "FGA       float64\n",
              "FG%       float64\n",
              "3P        float64\n",
              "3PA       float64\n",
              "3P%       float64\n",
              "2P        float64\n",
              "2PA       float64\n",
              "2P%       float64\n",
              "eFG%      float64\n",
              "FT        float64\n",
              "FTA       float64\n",
              "FT%       float64\n",
              "ORB       float64\n",
              "DRB       float64\n",
              "TRB       float64\n",
              "AST       float64\n",
              "STL       float64\n",
              "BLK       float64\n",
              "TOV       float64\n",
              "PF        float64\n",
              "PTS       float64\n",
              "PER       float64\n",
              "dtype: object"
            ]
          },
          "metadata": {},
          "execution_count": 360
        }
      ]
    },
    {
      "cell_type": "code",
      "source": [
        "# ***  Predict PPG by using Minutes Played, Assists, 3P%, 2P%, EFG%, FT%,ORB,3PT attempts,... ***\n",
        "# Using linear regression"
      ],
      "metadata": {
        "id": "htsOiWnYUYmo"
      },
      "execution_count": null,
      "outputs": []
    },
    {
      "cell_type": "code",
      "source": [
        "mod1 = df[['PTS','MP','FG%','3P%','2P%','FT%']]"
      ],
      "metadata": {
        "id": "mrgJ63q6zf6k"
      },
      "execution_count": null,
      "outputs": []
    },
    {
      "cell_type": "code",
      "source": [
        "X = mod1.drop('PTS', axis=1)"
      ],
      "metadata": {
        "id": "exTbcIyDzheM"
      },
      "execution_count": null,
      "outputs": []
    },
    {
      "cell_type": "code",
      "source": [
        "y = mod1['PTS']"
      ],
      "metadata": {
        "id": "ydwPR8kxzkfM"
      },
      "execution_count": null,
      "outputs": []
    },
    {
      "cell_type": "code",
      "source": [
        "X.shape, y.shape"
      ],
      "metadata": {
        "colab": {
          "base_uri": "https://localhost:8080/"
        },
        "id": "7LN06h0bznHL",
        "outputId": "7e5a90c9-9efd-473f-96c6-249f3a1ffe47"
      },
      "execution_count": null,
      "outputs": [
        {
          "output_type": "execute_result",
          "data": {
            "text/plain": [
              "((463, 5), (463,))"
            ]
          },
          "metadata": {},
          "execution_count": 365
        }
      ]
    },
    {
      "cell_type": "code",
      "source": [
        "X_train, X_test, y_train, y_test = train_test_split(X, y, test_size=0.2,random_state=42)"
      ],
      "metadata": {
        "id": "oMNG2eN2zrCH"
      },
      "execution_count": null,
      "outputs": []
    },
    {
      "cell_type": "code",
      "source": [
        "model = LinearRegression()"
      ],
      "metadata": {
        "id": "grDbdymtzszS"
      },
      "execution_count": null,
      "outputs": []
    },
    {
      "cell_type": "code",
      "source": [
        "model.fit(X_train, y_train)"
      ],
      "metadata": {
        "colab": {
          "base_uri": "https://localhost:8080/",
          "height": 74
        },
        "id": "NPDrHWwYzuaF",
        "outputId": "3690f8e4-579b-40d8-8e73-bee079553bea"
      },
      "execution_count": null,
      "outputs": [
        {
          "output_type": "execute_result",
          "data": {
            "text/plain": [
              "LinearRegression()"
            ],
            "text/html": [
              "<style>#sk-container-id-18 {color: black;background-color: white;}#sk-container-id-18 pre{padding: 0;}#sk-container-id-18 div.sk-toggleable {background-color: white;}#sk-container-id-18 label.sk-toggleable__label {cursor: pointer;display: block;width: 100%;margin-bottom: 0;padding: 0.3em;box-sizing: border-box;text-align: center;}#sk-container-id-18 label.sk-toggleable__label-arrow:before {content: \"▸\";float: left;margin-right: 0.25em;color: #696969;}#sk-container-id-18 label.sk-toggleable__label-arrow:hover:before {color: black;}#sk-container-id-18 div.sk-estimator:hover label.sk-toggleable__label-arrow:before {color: black;}#sk-container-id-18 div.sk-toggleable__content {max-height: 0;max-width: 0;overflow: hidden;text-align: left;background-color: #f0f8ff;}#sk-container-id-18 div.sk-toggleable__content pre {margin: 0.2em;color: black;border-radius: 0.25em;background-color: #f0f8ff;}#sk-container-id-18 input.sk-toggleable__control:checked~div.sk-toggleable__content {max-height: 200px;max-width: 100%;overflow: auto;}#sk-container-id-18 input.sk-toggleable__control:checked~label.sk-toggleable__label-arrow:before {content: \"▾\";}#sk-container-id-18 div.sk-estimator input.sk-toggleable__control:checked~label.sk-toggleable__label {background-color: #d4ebff;}#sk-container-id-18 div.sk-label input.sk-toggleable__control:checked~label.sk-toggleable__label {background-color: #d4ebff;}#sk-container-id-18 input.sk-hidden--visually {border: 0;clip: rect(1px 1px 1px 1px);clip: rect(1px, 1px, 1px, 1px);height: 1px;margin: -1px;overflow: hidden;padding: 0;position: absolute;width: 1px;}#sk-container-id-18 div.sk-estimator {font-family: monospace;background-color: #f0f8ff;border: 1px dotted black;border-radius: 0.25em;box-sizing: border-box;margin-bottom: 0.5em;}#sk-container-id-18 div.sk-estimator:hover {background-color: #d4ebff;}#sk-container-id-18 div.sk-parallel-item::after {content: \"\";width: 100%;border-bottom: 1px solid gray;flex-grow: 1;}#sk-container-id-18 div.sk-label:hover label.sk-toggleable__label {background-color: #d4ebff;}#sk-container-id-18 div.sk-serial::before {content: \"\";position: absolute;border-left: 1px solid gray;box-sizing: border-box;top: 0;bottom: 0;left: 50%;z-index: 0;}#sk-container-id-18 div.sk-serial {display: flex;flex-direction: column;align-items: center;background-color: white;padding-right: 0.2em;padding-left: 0.2em;position: relative;}#sk-container-id-18 div.sk-item {position: relative;z-index: 1;}#sk-container-id-18 div.sk-parallel {display: flex;align-items: stretch;justify-content: center;background-color: white;position: relative;}#sk-container-id-18 div.sk-item::before, #sk-container-id-18 div.sk-parallel-item::before {content: \"\";position: absolute;border-left: 1px solid gray;box-sizing: border-box;top: 0;bottom: 0;left: 50%;z-index: -1;}#sk-container-id-18 div.sk-parallel-item {display: flex;flex-direction: column;z-index: 1;position: relative;background-color: white;}#sk-container-id-18 div.sk-parallel-item:first-child::after {align-self: flex-end;width: 50%;}#sk-container-id-18 div.sk-parallel-item:last-child::after {align-self: flex-start;width: 50%;}#sk-container-id-18 div.sk-parallel-item:only-child::after {width: 0;}#sk-container-id-18 div.sk-dashed-wrapped {border: 1px dashed gray;margin: 0 0.4em 0.5em 0.4em;box-sizing: border-box;padding-bottom: 0.4em;background-color: white;}#sk-container-id-18 div.sk-label label {font-family: monospace;font-weight: bold;display: inline-block;line-height: 1.2em;}#sk-container-id-18 div.sk-label-container {text-align: center;}#sk-container-id-18 div.sk-container {/* jupyter's `normalize.less` sets `[hidden] { display: none; }` but bootstrap.min.css set `[hidden] { display: none !important; }` so we also need the `!important` here to be able to override the default hidden behavior on the sphinx rendered scikit-learn.org. See: https://github.com/scikit-learn/scikit-learn/issues/21755 */display: inline-block !important;position: relative;}#sk-container-id-18 div.sk-text-repr-fallback {display: none;}</style><div id=\"sk-container-id-18\" class=\"sk-top-container\"><div class=\"sk-text-repr-fallback\"><pre>LinearRegression()</pre><b>In a Jupyter environment, please rerun this cell to show the HTML representation or trust the notebook. <br />On GitHub, the HTML representation is unable to render, please try loading this page with nbviewer.org.</b></div><div class=\"sk-container\" hidden><div class=\"sk-item\"><div class=\"sk-estimator sk-toggleable\"><input class=\"sk-toggleable__control sk-hidden--visually\" id=\"sk-estimator-id-18\" type=\"checkbox\" checked><label for=\"sk-estimator-id-18\" class=\"sk-toggleable__label sk-toggleable__label-arrow\">LinearRegression</label><div class=\"sk-toggleable__content\"><pre>LinearRegression()</pre></div></div></div></div></div>"
            ]
          },
          "metadata": {},
          "execution_count": 368
        }
      ]
    },
    {
      "cell_type": "code",
      "source": [
        "#y_pred is predicted values of the target variable, now we compare those to the actual values, we do this to evaluate the perforance of the model\n",
        "#For example, as a player increases their field goal attempts, what is the likely hood their PPG increases.\n",
        "y_pred = model.predict(X_test)"
      ],
      "metadata": {
        "id": "dqyxDwCfzxNA"
      },
      "execution_count": null,
      "outputs": []
    },
    {
      "cell_type": "code",
      "source": [
        "r_squared = r2_score(y_test, y_pred)\n",
        "#Variance of dependent variable, explained by the independent variables\n",
        "#How well model fits the data, higher is better"
      ],
      "metadata": {
        "id": "J_mJTiw2zzI_"
      },
      "execution_count": null,
      "outputs": []
    },
    {
      "cell_type": "code",
      "source": [
        "print(f\"R-squared: {r_squared}\")"
      ],
      "metadata": {
        "colab": {
          "base_uri": "https://localhost:8080/"
        },
        "id": "9VjDH1_sz16V",
        "outputId": "77c7570b-273f-44eb-96a5-a480e1da5a82"
      },
      "execution_count": null,
      "outputs": [
        {
          "output_type": "stream",
          "name": "stdout",
          "text": [
            "R-squared: 0.7409102116869145\n"
          ]
        }
      ]
    },
    {
      "cell_type": "code",
      "source": [
        "#coefficient values of our independent variables\n",
        "coef_df = pd.DataFrame({'Feature': X.columns, 'Coefficient': model.coef_})\n",
        "print(coef_df)"
      ],
      "metadata": {
        "colab": {
          "base_uri": "https://localhost:8080/"
        },
        "id": "V1gDfbjuz84B",
        "outputId": "8a03dbb3-15b4-4a16-c23d-e349789afe75"
      },
      "execution_count": null,
      "outputs": [
        {
          "output_type": "stream",
          "name": "stdout",
          "text": [
            "  Feature  Coefficient\n",
            "0      MP     0.551335\n",
            "1     FG%     3.862138\n",
            "2     3P%     1.860099\n",
            "3     2P%    -1.164234\n",
            "4     FT%     0.887423\n"
          ]
        }
      ]
    },
    {
      "cell_type": "code",
      "source": [
        "#adjusted R-squared accounts for the number of variables in the model\n",
        "n = X_test.shape[0]\n",
        "p = X_test.shape[1]\n",
        "adjusted_r_squared = 1 - (1 - r_squared) * (n - 1) / (n - p - 1)\n",
        "print(f\"Adjusted R-squared: {adjusted_r_squared}\")\n",
        "\n",
        "#Average squared distance between predicted and actual values, lower is better\n",
        "mse = mean_squared_error(y_test, y_pred)\n",
        "print(f\"Mean squared error: {mse}\")\n",
        "\n",
        "#value of dependent variable when independent values are all zero, if positive target increases as features increase, if negative target decreases as features decrease\n",
        "intercept = model.intercept_\n",
        "print(f\"Intercept: {intercept}\")"
      ],
      "metadata": {
        "colab": {
          "base_uri": "https://localhost:8080/"
        },
        "id": "44jBLHBN0ANT",
        "outputId": "6ce0aa94-705a-41c3-daa5-760ce316951e"
      },
      "execution_count": null,
      "outputs": [
        {
          "output_type": "stream",
          "name": "stdout",
          "text": [
            "Adjusted R-squared: 0.7260199939677716\n",
            "Mean squared error: 15.812717993649832\n",
            "Intercept: -4.00721115067552\n"
          ]
        }
      ]
    },
    {
      "cell_type": "code",
      "source": [
        "#adjusted R-squared accounts for the number of variables in the model\n",
        "#Mean squared error is the average distance between predicted values\n",
        "#Intercept is the value of the dependent variable when all independent values are at zero"
      ],
      "metadata": {
        "id": "UYMw1g30xISZ"
      },
      "execution_count": null,
      "outputs": []
    },
    {
      "cell_type": "code",
      "source": [
        "#Linear Regression equation\n",
        "#PTS = −4.0072 + 0.551335 × MP + 3.862138 × FG% + 1.860099 × 3P% −1.164234×2P% + 0.887423 × FT%"
      ],
      "metadata": {
        "id": "4iiXE_rQN5PJ"
      },
      "execution_count": null,
      "outputs": []
    },
    {
      "cell_type": "code",
      "source": [
        "plt.scatter(y_test,y_pred, alpha=0.5)\n",
        "plt.plot([y.min(),y.max()],[y.min(),y.max()],color=\"red\") #This code is to draw a line, in a perfect prediction where actual values y is eqaul to predicted values of y.\n",
        "plt.show()\n",
        "#The points are grouped around the line nicely, this means that there is a good correlation between the data and the line\n",
        "#It suggests that the model is performing well in terms of predicting the dependent variable (target variable) based on the given features.\n",
        "#the proximity of actual values to the predicted values along the regression line indicates that the model is capturing the underlying patterns in the data."
      ],
      "metadata": {
        "colab": {
          "base_uri": "https://localhost:8080/",
          "height": 430
        },
        "id": "maAcJ2no0DJ3",
        "outputId": "5d53e959-8114-4359-9b50-17bfcafee8e5"
      },
      "execution_count": null,
      "outputs": [
        {
          "output_type": "display_data",
          "data": {
            "text/plain": [
              "<Figure size 640x480 with 1 Axes>"
            ],
            "image/png": "[encoded data removed]"
          },
          "metadata": {}
        }
      ]
    },
    {
      "cell_type": "code",
      "source": [
        "#Visualizing my most effective independent variable, most effective = the most change it will have on the dependent variable\n",
        "coef_df['Absolute_Coefficient'] = coef_df['Coefficient'].abs()\n",
        "# Reset index to use column names as a variable for plotting\n",
        "coef_df = coef_df.reset_index()\n",
        "coef_df = coef_df.sort_values(by='Absolute_Coefficient', ascending=False)\n",
        "plt.figure(figsize=(10, 6))\n",
        "sns.barplot(y='Absolute_Coefficient', x='Feature', data=coef_df)\n",
        "plt.title('Feature Importance in Linear Regression (Absolute Values)')\n",
        "plt.xticks(rotation=45) # Rotates labels to 45 degrees\n",
        "plt.show()\n"
      ],
      "metadata": {
        "colab": {
          "base_uri": "https://localhost:8080/",
          "height": 583
        },
        "id": "NvLm0RMO0HlF",
        "outputId": "4b39c25b-f945-406d-bdc0-cc382ece3827"
      },
      "execution_count": null,
      "outputs": [
        {
          "output_type": "display_data",
          "data": {
            "text/plain": [
              "<Figure size 1000x600 with 1 Axes>"
            ],
            "image/png": "[encoded data removed]"
          },
          "metadata": {}
        }
      ]
    },
    {
      "cell_type": "code",
      "source": [
        "#Now I will create a second model"
      ],
      "metadata": {
        "id": "rY_WHd2e9PP3"
      },
      "execution_count": null,
      "outputs": []
    },
    {
      "cell_type": "code",
      "source": [
        "mod2 = df[['PTS','MP','FGA','FG%','eFG%','3PA','3P%','2PA','2P%','FTA','FT%','TRB','ORB','AST','STL','BLK','TOV']]"
      ],
      "metadata": {
        "id": "KXWciYRH_hO7"
      },
      "execution_count": null,
      "outputs": []
    },
    {
      "cell_type": "code",
      "source": [
        "X = mod2.drop('PTS', axis=1)"
      ],
      "metadata": {
        "id": "Ur3LEXZQBBh2"
      },
      "execution_count": null,
      "outputs": []
    },
    {
      "cell_type": "code",
      "source": [
        "y = mod2['PTS']"
      ],
      "metadata": {
        "id": "csDe14XaDOIH"
      },
      "execution_count": null,
      "outputs": []
    },
    {
      "cell_type": "code",
      "source": [
        "X.shape, y.shape"
      ],
      "metadata": {
        "colab": {
          "base_uri": "https://localhost:8080/"
        },
        "id": "F-6p_3HbQJMq",
        "outputId": "842bab96-0b98-41d9-ba5a-8295da3bd838"
      },
      "execution_count": null,
      "outputs": [
        {
          "output_type": "execute_result",
          "data": {
            "text/plain": [
              "((463, 16), (463,))"
            ]
          },
          "metadata": {},
          "execution_count": 382
        }
      ]
    },
    {
      "cell_type": "code",
      "source": [
        "X_train, X_test, y_train, y_test = train_test_split(X, y, test_size=0.2,random_state=42)"
      ],
      "metadata": {
        "id": "2ycpk2elDXvL"
      },
      "execution_count": null,
      "outputs": []
    },
    {
      "cell_type": "code",
      "source": [
        "model = LinearRegression()"
      ],
      "metadata": {
        "id": "RPheYgMMDe5l"
      },
      "execution_count": null,
      "outputs": []
    },
    {
      "cell_type": "code",
      "source": [
        "model.fit(X_train, y_train)"
      ],
      "metadata": {
        "colab": {
          "base_uri": "https://localhost:8080/",
          "height": 74
        },
        "id": "Ysp8JjD7DfZB",
        "outputId": "b31baf80-d087-4e88-ef22-4de26a0b1ef5"
      },
      "execution_count": null,
      "outputs": [
        {
          "output_type": "execute_result",
          "data": {
            "text/plain": [
              "LinearRegression()"
            ],
            "text/html": [
              "<style>#sk-container-id-19 {color: black;background-color: white;}#sk-container-id-19 pre{padding: 0;}#sk-container-id-19 div.sk-toggleable {background-color: white;}#sk-container-id-19 label.sk-toggleable__label {cursor: pointer;display: block;width: 100%;margin-bottom: 0;padding: 0.3em;box-sizing: border-box;text-align: center;}#sk-container-id-19 label.sk-toggleable__label-arrow:before {content: \"▸\";float: left;margin-right: 0.25em;color: #696969;}#sk-container-id-19 label.sk-toggleable__label-arrow:hover:before {color: black;}#sk-container-id-19 div.sk-estimator:hover label.sk-toggleable__label-arrow:before {color: black;}#sk-container-id-19 div.sk-toggleable__content {max-height: 0;max-width: 0;overflow: hidden;text-align: left;background-color: #f0f8ff;}#sk-container-id-19 div.sk-toggleable__content pre {margin: 0.2em;color: black;border-radius: 0.25em;background-color: #f0f8ff;}#sk-container-id-19 input.sk-toggleable__control:checked~div.sk-toggleable__content {max-height: 200px;max-width: 100%;overflow: auto;}#sk-container-id-19 input.sk-toggleable__control:checked~label.sk-toggleable__label-arrow:before {content: \"▾\";}#sk-container-id-19 div.sk-estimator input.sk-toggleable__control:checked~label.sk-toggleable__label {background-color: #d4ebff;}#sk-container-id-19 div.sk-label input.sk-toggleable__control:checked~label.sk-toggleable__label {background-color: #d4ebff;}#sk-container-id-19 input.sk-hidden--visually {border: 0;clip: rect(1px 1px 1px 1px);clip: rect(1px, 1px, 1px, 1px);height: 1px;margin: -1px;overflow: hidden;padding: 0;position: absolute;width: 1px;}#sk-container-id-19 div.sk-estimator {font-family: monospace;background-color: #f0f8ff;border: 1px dotted black;border-radius: 0.25em;box-sizing: border-box;margin-bottom: 0.5em;}#sk-container-id-19 div.sk-estimator:hover {background-color: #d4ebff;}#sk-container-id-19 div.sk-parallel-item::after {content: \"\";width: 100%;border-bottom: 1px solid gray;flex-grow: 1;}#sk-container-id-19 div.sk-label:hover label.sk-toggleable__label {background-color: #d4ebff;}#sk-container-id-19 div.sk-serial::before {content: \"\";position: absolute;border-left: 1px solid gray;box-sizing: border-box;top: 0;bottom: 0;left: 50%;z-index: 0;}#sk-container-id-19 div.sk-serial {display: flex;flex-direction: column;align-items: center;background-color: white;padding-right: 0.2em;padding-left: 0.2em;position: relative;}#sk-container-id-19 div.sk-item {position: relative;z-index: 1;}#sk-container-id-19 div.sk-parallel {display: flex;align-items: stretch;justify-content: center;background-color: white;position: relative;}#sk-container-id-19 div.sk-item::before, #sk-container-id-19 div.sk-parallel-item::before {content: \"\";position: absolute;border-left: 1px solid gray;box-sizing: border-box;top: 0;bottom: 0;left: 50%;z-index: -1;}#sk-container-id-19 div.sk-parallel-item {display: flex;flex-direction: column;z-index: 1;position: relative;background-color: white;}#sk-container-id-19 div.sk-parallel-item:first-child::after {align-self: flex-end;width: 50%;}#sk-container-id-19 div.sk-parallel-item:last-child::after {align-self: flex-start;width: 50%;}#sk-container-id-19 div.sk-parallel-item:only-child::after {width: 0;}#sk-container-id-19 div.sk-dashed-wrapped {border: 1px dashed gray;margin: 0 0.4em 0.5em 0.4em;box-sizing: border-box;padding-bottom: 0.4em;background-color: white;}#sk-container-id-19 div.sk-label label {font-family: monospace;font-weight: bold;display: inline-block;line-height: 1.2em;}#sk-container-id-19 div.sk-label-container {text-align: center;}#sk-container-id-19 div.sk-container {/* jupyter's `normalize.less` sets `[hidden] { display: none; }` but bootstrap.min.css set `[hidden] { display: none !important; }` so we also need the `!important` here to be able to override the default hidden behavior on the sphinx rendered scikit-learn.org. See: https://github.com/scikit-learn/scikit-learn/issues/21755 */display: inline-block !important;position: relative;}#sk-container-id-19 div.sk-text-repr-fallback {display: none;}</style><div id=\"sk-container-id-19\" class=\"sk-top-container\"><div class=\"sk-text-repr-fallback\"><pre>LinearRegression()</pre><b>In a Jupyter environment, please rerun this cell to show the HTML representation or trust the notebook. <br />On GitHub, the HTML representation is unable to render, please try loading this page with nbviewer.org.</b></div><div class=\"sk-container\" hidden><div class=\"sk-item\"><div class=\"sk-estimator sk-toggleable\"><input class=\"sk-toggleable__control sk-hidden--visually\" id=\"sk-estimator-id-19\" type=\"checkbox\" checked><label for=\"sk-estimator-id-19\" class=\"sk-toggleable__label sk-toggleable__label-arrow\">LinearRegression</label><div class=\"sk-toggleable__content\"><pre>LinearRegression()</pre></div></div></div></div></div>"
            ]
          },
          "metadata": {},
          "execution_count": 385
        }
      ]
    },
    {
      "cell_type": "code",
      "source": [
        "#y_pred is predicted values of the target variable, now we compare those to the actual values, we do this to evaluate the perforance of the model\n",
        "# for example, as a player increases their field goal attempts, what is the likely hood their PPG increses.\n",
        "y_pred = model.predict(X_test)"
      ],
      "metadata": {
        "id": "HGhJQPrYDh0Q"
      },
      "execution_count": null,
      "outputs": []
    },
    {
      "cell_type": "code",
      "source": [
        "r_squared = r2_score(y_test, y_pred)\n",
        "#variance of dependent variable, explained by the independent variables\n",
        "#how well model fits the data, higher is better"
      ],
      "metadata": {
        "id": "-SyOGxXYDlII"
      },
      "execution_count": null,
      "outputs": []
    },
    {
      "cell_type": "code",
      "source": [
        "#Adding more independent variables may help capture additional variation in the dependent variable.\n",
        "#If the new variables contribute meaningful information about the target variable, the model can better explain the observed variance in the data.\n",
        "#We cant completely rule out overfitting and multicolinearity\n",
        "print(f\"R-squared: {r_squared}\")"
      ],
      "metadata": {
        "colab": {
          "base_uri": "https://localhost:8080/"
        },
        "id": "6WcZ9j5cDtGs",
        "outputId": "77b75b6f-c06b-4ffd-9466-30496de40c22"
      },
      "execution_count": null,
      "outputs": [
        {
          "output_type": "stream",
          "name": "stdout",
          "text": [
            "R-squared: 0.9675110618737752\n"
          ]
        }
      ]
    },
    {
      "cell_type": "code",
      "source": [
        "#insight #1\n",
        "#introduction of new variables to the model, has changed my minutes played coefficient from a postive value to a negative value\n",
        "#The variables added in the second model might be correlated with \"Minutes Played\" (MP), causing the model to adjust the coefficient for MP to account for the shared variance.\n",
        "#we cant completely rule out multicollinearity\n",
        "coef_df = pd.DataFrame({'Feature': X.columns, 'Coefficient': model.coef_})\n",
        "print(coef_df)"
      ],
      "metadata": {
        "colab": {
          "base_uri": "https://localhost:8080/"
        },
        "id": "fHLceFuhD1ek",
        "outputId": "bd15b2b9-63a9-497a-f668-7f5e3462ff6e"
      },
      "execution_count": null,
      "outputs": [
        {
          "output_type": "stream",
          "name": "stdout",
          "text": [
            "   Feature  Coefficient\n",
            "0       MP    -0.011275\n",
            "1      FGA     4.074810\n",
            "2      FG%    -1.936430\n",
            "3     eFG%     5.419068\n",
            "4      3PA    -3.009251\n",
            "5      3P%     0.310757\n",
            "6      2PA    -3.082831\n",
            "7      2P%    -0.182669\n",
            "8      FTA     0.895769\n",
            "9      FT%     0.041888\n",
            "10     TRB     0.139446\n",
            "11     ORB    -0.314215\n",
            "12     AST    -0.064055\n",
            "13     STL    -0.077682\n",
            "14     BLK     0.193258\n",
            "15     TOV    -0.019335\n"
          ]
        }
      ]
    },
    {
      "cell_type": "code",
      "source": [
        "n = X_test.shape[0]\n",
        "p = X_test.shape[1]\n",
        "adjusted_r_squared = 1 - (1 - r_squared) * (n - 1) / (n - p - 1)\n",
        "print(f\"Adjusted R-squared: {adjusted_r_squared}\")\n",
        "\n",
        "#average squared distance between predicted and actual values, lower is better\n",
        "mse = mean_squared_error(y_test, y_pred)\n",
        "print(f\"Mean squared error: {mse}\")\n",
        "\n",
        "#value of dependent variable when independent values are all zero, if positive target increases as features increase, if negative target decreases as features decrease\n",
        "intercept = model.intercept_\n",
        "print(f\"Intercept: {intercept}\")"
      ],
      "metadata": {
        "colab": {
          "base_uri": "https://localhost:8080/"
        },
        "id": "6XBAUFUhUM-l",
        "outputId": "9de6f909-18c9-4e44-a991-ff8ad82a9f2e"
      },
      "execution_count": null,
      "outputs": [
        {
          "output_type": "stream",
          "name": "stdout",
          "text": [
            "Adjusted R-squared: 0.960671285426149\n",
            "Mean squared error: 1.982858606076464\n",
            "Intercept: -1.6727074941572209\n"
          ]
        }
      ]
    },
    {
      "cell_type": "code",
      "source": [
        "plt.scatter(y_test,y_pred, alpha=0.5)\n",
        "plt.plot([y.min(),y.max()],[y.min(),y.max()],color=\"red\") #This code is to draw a line, in a perfect prediction where actual values y is eqaul to predicted values of y.\n",
        "plt.show()\n",
        "#The points are grouped around the line nicely, this means that there is a good correlation between the data and the line"
      ],
      "metadata": {
        "colab": {
          "base_uri": "https://localhost:8080/",
          "height": 430
        },
        "id": "ob2iR2ohV1Gg",
        "outputId": "2bbae94a-d0be-4a30-d633-60ec34d24839"
      },
      "execution_count": null,
      "outputs": [
        {
          "output_type": "display_data",
          "data": {
            "text/plain": [
              "<Figure size 640x480 with 1 Axes>"
            ],
            "image/png": "[encoded data removed]"
          },
          "metadata": {}
        }
      ]
    },
    {
      "cell_type": "code",
      "source": [
        "coef_df['Absolute_Coefficient'] = coef_df['Coefficient'].abs()\n",
        "# Reset index to use column names as a variable for plotting\n",
        "coef_df = coef_df.reset_index()\n",
        "coef_df = coef_df.sort_values(by='Absolute_Coefficient', ascending=False)\n",
        "plt.figure(figsize=(10, 6))\n",
        "sns.barplot(y='Absolute_Coefficient', x='Feature', data=coef_df)\n",
        "plt.title('Feature Importance in Linear Regression (Absolute Values)')\n",
        "plt.xticks(rotation=45) # Rotates labels to 45 degrees\n",
        "plt.show()\n"
      ],
      "metadata": {
        "colab": {
          "base_uri": "https://localhost:8080/",
          "height": 589
        },
        "id": "DOyovH_VxkEI",
        "outputId": "8fd7dffa-71b8-46cf-8c15-94c7e200aa7a"
      },
      "execution_count": null,
      "outputs": [
        {
          "output_type": "display_data",
          "data": {
            "text/plain": [
              "<Figure size 1000x600 with 1 Axes>"
            ],
            "image/png": "[encoded data removed]"
          },
          "metadata": {}
        }
      ]
    },
    {
      "cell_type": "code",
      "source": [
        "mod3 = df[['PTS','MP','Age','TRB','AST','STL','BLK','PF']]"
      ],
      "metadata": {
        "id": "TcW1xloc2sKj"
      },
      "execution_count": null,
      "outputs": []
    },
    {
      "cell_type": "code",
      "source": [
        "X = mod3.drop('PTS', axis=1)"
      ],
      "metadata": {
        "id": "xkgZezLR2sKk"
      },
      "execution_count": null,
      "outputs": []
    },
    {
      "cell_type": "code",
      "source": [
        "y = mod3['PTS']"
      ],
      "metadata": {
        "id": "U9D9i2rn2sKk"
      },
      "execution_count": null,
      "outputs": []
    },
    {
      "cell_type": "code",
      "source": [
        "X.shape, y.shape"
      ],
      "metadata": {
        "colab": {
          "base_uri": "https://localhost:8080/"
        },
        "outputId": "f7f9bb4f-b540-4ad8-ea04-327d70df0ee1",
        "id": "0pH_6r1K2sKk"
      },
      "execution_count": null,
      "outputs": [
        {
          "output_type": "execute_result",
          "data": {
            "text/plain": [
              "((463, 7), (463,))"
            ]
          },
          "metadata": {},
          "execution_count": 396
        }
      ]
    },
    {
      "cell_type": "code",
      "source": [
        "X_train, X_test, y_train, y_test = train_test_split(X, y, test_size=0.2,random_state=42)"
      ],
      "metadata": {
        "id": "QS6iaZuY2sKk"
      },
      "execution_count": null,
      "outputs": []
    },
    {
      "cell_type": "code",
      "source": [
        "model = LinearRegression()"
      ],
      "metadata": {
        "id": "hsL2Gu6Y2sKk"
      },
      "execution_count": null,
      "outputs": []
    },
    {
      "cell_type": "code",
      "source": [
        "model.fit(X_train, y_train)"
      ],
      "metadata": {
        "colab": {
          "base_uri": "https://localhost:8080/",
          "height": 74
        },
        "outputId": "73c938da-188a-483c-f151-8050da44f071",
        "id": "WD2X4iji2sKk"
      },
      "execution_count": null,
      "outputs": [
        {
          "output_type": "execute_result",
          "data": {
            "text/plain": [
              "LinearRegression()"
            ],
            "text/html": [
              "<style>#sk-container-id-20 {color: black;background-color: white;}#sk-container-id-20 pre{padding: 0;}#sk-container-id-20 div.sk-toggleable {background-color: white;}#sk-container-id-20 label.sk-toggleable__label {cursor: pointer;display: block;width: 100%;margin-bottom: 0;padding: 0.3em;box-sizing: border-box;text-align: center;}#sk-container-id-20 label.sk-toggleable__label-arrow:before {content: \"▸\";float: left;margin-right: 0.25em;color: #696969;}#sk-container-id-20 label.sk-toggleable__label-arrow:hover:before {color: black;}#sk-container-id-20 div.sk-estimator:hover label.sk-toggleable__label-arrow:before {color: black;}#sk-container-id-20 div.sk-toggleable__content {max-height: 0;max-width: 0;overflow: hidden;text-align: left;background-color: #f0f8ff;}#sk-container-id-20 div.sk-toggleable__content pre {margin: 0.2em;color: black;border-radius: 0.25em;background-color: #f0f8ff;}#sk-container-id-20 input.sk-toggleable__control:checked~div.sk-toggleable__content {max-height: 200px;max-width: 100%;overflow: auto;}#sk-container-id-20 input.sk-toggleable__control:checked~label.sk-toggleable__label-arrow:before {content: \"▾\";}#sk-container-id-20 div.sk-estimator input.sk-toggleable__control:checked~label.sk-toggleable__label {background-color: #d4ebff;}#sk-container-id-20 div.sk-label input.sk-toggleable__control:checked~label.sk-toggleable__label {background-color: #d4ebff;}#sk-container-id-20 input.sk-hidden--visually {border: 0;clip: rect(1px 1px 1px 1px);clip: rect(1px, 1px, 1px, 1px);height: 1px;margin: -1px;overflow: hidden;padding: 0;position: absolute;width: 1px;}#sk-container-id-20 div.sk-estimator {font-family: monospace;background-color: #f0f8ff;border: 1px dotted black;border-radius: 0.25em;box-sizing: border-box;margin-bottom: 0.5em;}#sk-container-id-20 div.sk-estimator:hover {background-color: #d4ebff;}#sk-container-id-20 div.sk-parallel-item::after {content: \"\";width: 100%;border-bottom: 1px solid gray;flex-grow: 1;}#sk-container-id-20 div.sk-label:hover label.sk-toggleable__label {background-color: #d4ebff;}#sk-container-id-20 div.sk-serial::before {content: \"\";position: absolute;border-left: 1px solid gray;box-sizing: border-box;top: 0;bottom: 0;left: 50%;z-index: 0;}#sk-container-id-20 div.sk-serial {display: flex;flex-direction: column;align-items: center;background-color: white;padding-right: 0.2em;padding-left: 0.2em;position: relative;}#sk-container-id-20 div.sk-item {position: relative;z-index: 1;}#sk-container-id-20 div.sk-parallel {display: flex;align-items: stretch;justify-content: center;background-color: white;position: relative;}#sk-container-id-20 div.sk-item::before, #sk-container-id-20 div.sk-parallel-item::before {content: \"\";position: absolute;border-left: 1px solid gray;box-sizing: border-box;top: 0;bottom: 0;left: 50%;z-index: -1;}#sk-container-id-20 div.sk-parallel-item {display: flex;flex-direction: column;z-index: 1;position: relative;background-color: white;}#sk-container-id-20 div.sk-parallel-item:first-child::after {align-self: flex-end;width: 50%;}#sk-container-id-20 div.sk-parallel-item:last-child::after {align-self: flex-start;width: 50%;}#sk-container-id-20 div.sk-parallel-item:only-child::after {width: 0;}#sk-container-id-20 div.sk-dashed-wrapped {border: 1px dashed gray;margin: 0 0.4em 0.5em 0.4em;box-sizing: border-box;padding-bottom: 0.4em;background-color: white;}#sk-container-id-20 div.sk-label label {font-family: monospace;font-weight: bold;display: inline-block;line-height: 1.2em;}#sk-container-id-20 div.sk-label-container {text-align: center;}#sk-container-id-20 div.sk-container {/* jupyter's `normalize.less` sets `[hidden] { display: none; }` but bootstrap.min.css set `[hidden] { display: none !important; }` so we also need the `!important` here to be able to override the default hidden behavior on the sphinx rendered scikit-learn.org. See: https://github.com/scikit-learn/scikit-learn/issues/21755 */display: inline-block !important;position: relative;}#sk-container-id-20 div.sk-text-repr-fallback {display: none;}</style><div id=\"sk-container-id-20\" class=\"sk-top-container\"><div class=\"sk-text-repr-fallback\"><pre>LinearRegression()</pre><b>In a Jupyter environment, please rerun this cell to show the HTML representation or trust the notebook. <br />On GitHub, the HTML representation is unable to render, please try loading this page with nbviewer.org.</b></div><div class=\"sk-container\" hidden><div class=\"sk-item\"><div class=\"sk-estimator sk-toggleable\"><input class=\"sk-toggleable__control sk-hidden--visually\" id=\"sk-estimator-id-20\" type=\"checkbox\" checked><label for=\"sk-estimator-id-20\" class=\"sk-toggleable__label sk-toggleable__label-arrow\">LinearRegression</label><div class=\"sk-toggleable__content\"><pre>LinearRegression()</pre></div></div></div></div></div>"
            ]
          },
          "metadata": {},
          "execution_count": 399
        }
      ]
    },
    {
      "cell_type": "code",
      "source": [
        "#y_pred is predicted values of the target variable, now we compare those to the actual values, we do this to evaluate the perforance of the model\n",
        "# for example, as a player increases their field goal attempts, what is the likely hood their PPG increses.\n",
        "y_pred = model.predict(X_test)"
      ],
      "metadata": {
        "id": "vNXm8bW12sKl"
      },
      "execution_count": null,
      "outputs": []
    },
    {
      "cell_type": "code",
      "source": [
        "r_squared = r2_score(y_test, y_pred)\n",
        "#variance of dependent variable, explained by the independent variables\n",
        "#how well model fits the data, higher is better"
      ],
      "metadata": {
        "id": "XpMAx_3Q2sKl"
      },
      "execution_count": null,
      "outputs": []
    },
    {
      "cell_type": "code",
      "source": [
        "print(f\"R-squared: {r_squared}\")"
      ],
      "metadata": {
        "colab": {
          "base_uri": "https://localhost:8080/"
        },
        "outputId": "10744393-0ad3-4ee9-cfde-d2901329194e",
        "id": "JFwIQLYb2sKl"
      },
      "execution_count": null,
      "outputs": [
        {
          "output_type": "stream",
          "name": "stdout",
          "text": [
            "R-squared: 0.7324844577183003\n"
          ]
        }
      ]
    },
    {
      "cell_type": "code",
      "source": [
        "coef_df = pd.DataFrame({'Feature': X.columns, 'Coefficient': model.coef_})\n",
        "print(coef_df)"
      ],
      "metadata": {
        "colab": {
          "base_uri": "https://localhost:8080/"
        },
        "outputId": "59868b39-fc94-4bf9-89c5-341295f8a27e",
        "id": "LrcUk-Me2sKl"
      },
      "execution_count": null,
      "outputs": [
        {
          "output_type": "stream",
          "name": "stdout",
          "text": [
            "  Feature  Coefficient\n",
            "0      MP     0.589724\n",
            "1     Age    -0.142118\n",
            "2     TRB     0.180525\n",
            "3     AST     0.621406\n",
            "4     STL    -0.730667\n",
            "5     BLK     0.782667\n",
            "6      PF    -1.460736\n"
          ]
        }
      ]
    },
    {
      "cell_type": "code",
      "source": [
        "n = X_test.shape[0]\n",
        "p = X_test.shape[1]\n",
        "adjusted_r_squared = 1 - (1 - r_squared) * (n - 1) / (n - p - 1)\n",
        "print(f\"Adjusted R-squared: {adjusted_r_squared}\")\n",
        "\n",
        "#average squared distance between predicted and actual values, lower is better\n",
        "mse = mean_squared_error(y_test, y_pred)\n",
        "print(f\"Mean squared error: {mse}\")\n",
        "\n",
        "#value of dependent variable when independent values are all zero, if positive target increases as features increase, if negative target decreases as features decrease\n",
        "intercept = model.intercept_\n",
        "print(f\"Intercept: {intercept}\")"
      ],
      "metadata": {
        "colab": {
          "base_uri": "https://localhost:8080/"
        },
        "outputId": "990be77c-90b5-4daf-e99d-5688358dfdaa",
        "id": "kQx_MkHZ2sKl"
      },
      "execution_count": null,
      "outputs": [
        {
          "output_type": "stream",
          "name": "stdout",
          "text": [
            "Adjusted R-squared: 0.7104537660009839\n",
            "Mean squared error: 16.32695698491634\n",
            "Intercept: 1.7727545447180013\n"
          ]
        }
      ]
    },
    {
      "cell_type": "code",
      "source": [
        "plt.scatter(y_test,y_pred, alpha=0.5)\n",
        "plt.plot([y.min(),y.max()],[y.min(),y.max()],color=\"red\") #This code is to draw a line, in a perfect prediction where actual values y is eqaul to predicted values of y.\n",
        "plt.show()\n",
        "#The points are grouped around the line nicely, this means that there is a good correlation between the data and the line"
      ],
      "metadata": {
        "colab": {
          "base_uri": "https://localhost:8080/",
          "height": 430
        },
        "outputId": "7a23f5d5-7e07-4212-a8a0-6c2296c94340",
        "id": "LUTeVg4T2sKl"
      },
      "execution_count": null,
      "outputs": [
        {
          "output_type": "display_data",
          "data": {
            "text/plain": [
              "<Figure size 640x480 with 1 Axes>"
            ],
            "image/png": "[encoded data removed]"
          },
          "metadata": {}
        }
      ]
    },
    {
      "cell_type": "code",
      "source": [
        "coef_df['Absolute_Coefficient'] = coef_df['Coefficient'].abs()\n",
        "# Reset index to use column names as a variable for plotting\n",
        "coef_df = coef_df.reset_index()\n",
        "coef_df = coef_df.sort_values(by='Absolute_Coefficient', ascending=False)\n",
        "plt.figure(figsize=(10, 6))\n",
        "sns.barplot(y='Absolute_Coefficient', x='Feature', data=coef_df)\n",
        "plt.title('Feature Importance in Linear Regression (Absolute Values)')\n",
        "plt.xticks(rotation=45) # Rotates labels to 45 degrees\n",
        "plt.show()\n"
      ],
      "metadata": {
        "colab": {
          "base_uri": "https://localhost:8080/",
          "height": 580
        },
        "outputId": "95931d42-b135-4677-e9e0-83b59713ebdf",
        "id": "eQ6KTqHA2sKl"
      },
      "execution_count": null,
      "outputs": [
        {
          "output_type": "display_data",
          "data": {
            "text/plain": [
              "<Figure size 1000x600 with 1 Axes>"
            ],
            "image/png": "[encoded data removed]"
          },
          "metadata": {}
        }
      ]
    },
    {
      "cell_type": "code",
      "source": [
        "#Insight 1\n",
        "#The change for MP variable coefficient from model 1 to model 2 to went from positive to negative\n",
        "#I found this cool because initially it seems like MP being negative makes no sense\n",
        "#However I found out that due to the new variables added in the 2nd model, some of the new variables might be correlated to MP\n",
        "#Therefore causing the model to adjust the coefficient for MP"
      ],
      "metadata": {
        "id": "j8cxYDMPxzhD"
      },
      "execution_count": null,
      "outputs": []
    },
    {
      "cell_type": "code",
      "source": [
        "#Insight 2\n",
        "# For model 1 and 2 FG% and eFG% were the most contributing factors to PPG\n",
        "# However for model 3 when FG variables were not present, PF were the most contributing factor variable.\n",
        "#I found this interesting because I assumed that for model 3, minutes played or TRB would be the most contributing factor.\n",
        "#It turns out that Personal fouls have such a high negative coef because as you commit more fouls you will have less MP, therefore less PPG."
      ],
      "metadata": {
        "id": "p3PJrKJUdU8h"
      },
      "execution_count": null,
      "outputs": []
    }
  ]
}